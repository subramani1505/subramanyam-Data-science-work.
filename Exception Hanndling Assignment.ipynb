{
 "cells": [
  {
   "cell_type": "markdown",
   "id": "31e14206-c452-4b12-8f5a-44600a90c58d",
   "metadata": {},
   "source": [
    "#### Q1. What is an Exception in python Write the difference between Exceptions and syntax errors."
   ]
  },
  {
   "cell_type": "markdown",
   "id": "c6eab623-bb03-4da9-8ed6-f0e68b8747c6",
   "metadata": {},
   "source": [
    "* In Python, an exception is an error that occurs during the execution of a program. When an error occurs, Python raises an exception and terminates the program unless the exception is caught and handled by the program. Exceptions can occur for many reasons, such as invalid input, file not found, or network errors.\n",
    "\n",
    "* Syntax errors, on the other hand, are errors that occur when you write code that does not follow the rules of the Python language. Syntax errors occur when you write code that is not valid Python code. Examples of syntax errors include forgetting to put a colon after an if statement, forgetting to close a parenthesis, or using an incorrect keyword.\n",
    "\n",
    "* The main difference between exceptions and syntax errors is that syntax errors are detected by the Python interpreter when it tries to compile the code, while exceptions occur during the execution of the code. Syntax errors are usually easy to fix because the Python interpreter points out exactly where the error occurred and what the problem is. Exceptions, on the other hand, can be more difficult to debug because the error may not occur until the program has been running for some time and it may not be immediately clear what caused the error."
   ]
  },
  {
   "cell_type": "markdown",
   "id": "356ed1f8-428d-42e0-aca6-1dc5654a6164",
   "metadata": {},
   "source": [
    "#### Q2.What happens when an exception is not handled? explain with an example"
   ]
  },
  {
   "cell_type": "markdown",
   "id": "6cff0319-8a66-4ad5-b11f-e9a93a94f9df",
   "metadata": {},
   "source": [
    "* When an exception is not handled, it causes the program to terminate and display an error message that describes the exception that occurred. This is known as an unhandled exception. In some cases, an unhandled exception can also cause the program to crash or behave unpredictably."
   ]
  },
  {
   "cell_type": "code",
   "execution_count": 3,
   "id": "2e227edf-f1ed-42d1-ac86-1756b35e26f9",
   "metadata": {},
   "outputs": [
    {
     "name": "stdin",
     "output_type": "stream",
     "text": [
      "Enter a number:  10\n",
      "Enter another number:  0\n"
     ]
    },
    {
     "ename": "TypeError",
     "evalue": "unsupported operand type(s) for /: 'str' and 'str'",
     "output_type": "error",
     "traceback": [
      "\u001b[0;31m---------------------------------------------------------------------------\u001b[0m",
      "\u001b[0;31mTypeError\u001b[0m                                 Traceback (most recent call last)",
      "Cell \u001b[0;32mIn[3], line 4\u001b[0m\n\u001b[1;32m      2\u001b[0m num1 \u001b[38;5;241m=\u001b[39m \u001b[38;5;28minput\u001b[39m(\u001b[38;5;124m\"\u001b[39m\u001b[38;5;124mEnter a number: \u001b[39m\u001b[38;5;124m\"\u001b[39m)\n\u001b[1;32m      3\u001b[0m num2 \u001b[38;5;241m=\u001b[39m \u001b[38;5;28minput\u001b[39m(\u001b[38;5;124m\"\u001b[39m\u001b[38;5;124mEnter another number: \u001b[39m\u001b[38;5;124m\"\u001b[39m)\n\u001b[0;32m----> 4\u001b[0m result \u001b[38;5;241m=\u001b[39m \u001b[43mnum1\u001b[49m\u001b[43m \u001b[49m\u001b[38;5;241;43m/\u001b[39;49m\u001b[43m \u001b[49m\u001b[43mnum2\u001b[49m\n\u001b[1;32m      5\u001b[0m \u001b[38;5;28mprint\u001b[39m(\u001b[38;5;124m\"\u001b[39m\u001b[38;5;124mThe result is: \u001b[39m\u001b[38;5;124m\"\u001b[39m, result)\n",
      "\u001b[0;31mTypeError\u001b[0m: unsupported operand type(s) for /: 'str' and 'str'"
     ]
    }
   ],
   "source": [
    "## example \n",
    "num1 = input(\"Enter a number: \")\n",
    "num2 = input(\"Enter another number: \")\n",
    "result = num1 / num2\n",
    "print(\"The result is: \", result)\n"
   ]
  },
  {
   "cell_type": "markdown",
   "id": "b233dcf0-b4d0-471b-8041-2392e7e7f6ec",
   "metadata": {},
   "source": [
    "* Enter a number: 10\n",
    "  Enter another number: 0\n",
    "   Traceback (most recent call last):\n",
    "  File \"example.py\", line 3, in <moduleresult = num1 / num2\n",
    "    ZeroDivisionError: division by zero\n",
    "\n",
    "* In this example, the user is asked to enter two numbers. The program then tries to divide the first number by the second number and store the result in the result variable. However, if the user enters a string instead of a number or enters 0 as the second number, a TypeError or ZeroDivisionError exception will occur.\n",
    "\n",
    "* This error message tells us that a ZeroDivisionError occurred when the program tried to divide the first number by the second number. Since we didn't handle this exception, the program terminated and displayed this error message.\n"
   ]
  },
  {
   "cell_type": "markdown",
   "id": "72a8d9cd-92a9-4369-963c-c63a49a52e9f",
   "metadata": {},
   "source": [
    "#### Q3.Which python statements are used to catch and handle Exceptions? explain with an example."
   ]
  },
  {
   "cell_type": "markdown",
   "id": "5e58a0b4-1bcc-4541-a257-8766ecfd15c8",
   "metadata": {},
   "source": [
    "* In Python, you can catch and handle exceptions using try and except statements. The try statement is used to enclose the code that might raise an exception, while the except statement is used to define the block of code that should be executed when an exception is raised."
   ]
  },
  {
   "cell_type": "code",
   "execution_count": 5,
   "id": "4bb80574-a5aa-4872-acf8-473f37edd78a",
   "metadata": {},
   "outputs": [
    {
     "name": "stdin",
     "output_type": "stream",
     "text": [
      "Enter a number:  abcc\n",
      "Enter another number:  2\n"
     ]
    },
    {
     "name": "stdout",
     "output_type": "stream",
     "text": [
      "Error: Please enter only numbers.\n"
     ]
    }
   ],
   "source": [
    "## example \n",
    "num1 = input(\"Enter a number: \")\n",
    "num2 = input(\"Enter another number: \")\n",
    "\n",
    "try:\n",
    "    result = int(num1) / int(num2)\n",
    "    print(\"The result is:\", result)\n",
    "except ZeroDivisionError:\n",
    "    print(\"Error: Cannot divide by zero.\")\n",
    "except ValueError:\n",
    "    print(\"Error: Please enter only numbers.\")\n"
   ]
  },
  {
   "cell_type": "code",
   "execution_count": 6,
   "id": "245209da-5403-4730-b339-3faae04f691a",
   "metadata": {},
   "outputs": [
    {
     "name": "stdin",
     "output_type": "stream",
     "text": [
      "Enter a number:  10\n",
      "Enter another number:  0\n"
     ]
    },
    {
     "name": "stdout",
     "output_type": "stream",
     "text": [
      "Error: Cannot divide by zero.\n"
     ]
    }
   ],
   "source": [
    "## example \n",
    "num1 = input(\"Enter a number: \")\n",
    "num2 = input(\"Enter another number: \")\n",
    "\n",
    "try:\n",
    "    result = int(num1) / int(num2)\n",
    "    print(\"The result is:\", result)\n",
    "except ZeroDivisionError:\n",
    "    print(\"Error: Cannot divide by zero.\")\n",
    "except ValueError:\n",
    "    print(\"Error: Please enter only numbers.\")\n"
   ]
  },
  {
   "cell_type": "markdown",
   "id": "e1500f8a-72f2-4724-a0d0-e477ac103540",
   "metadata": {},
   "source": [
    "#### Q4. EXplain with an example:\n",
    "* a) try and else\n",
    "* b) finally\n",
    "* c) raise"
   ]
  },
  {
   "cell_type": "markdown",
   "id": "029c44f7-f8bd-4c19-8ac1-9fdac80d27d6",
   "metadata": {},
   "source": [
    "* a) try and else: In Python, you can use the else statement with a try statement to define a block of code that should be executed if no exception is raised. The else block is executed after the try block if no exception occurs."
   ]
  },
  {
   "cell_type": "code",
   "execution_count": 7,
   "id": "18a854a5-8069-4c58-a0ca-f0fad705f0f7",
   "metadata": {},
   "outputs": [
    {
     "name": "stdin",
     "output_type": "stream",
     "text": [
      "Enter a number:  10\n",
      "Enter another number:  2\n"
     ]
    },
    {
     "name": "stdout",
     "output_type": "stream",
     "text": [
      "The result is: 5.0\n"
     ]
    }
   ],
   "source": [
    "## example for try and else:\n",
    "try:\n",
    "    num1 = int(input(\"Enter a number: \"))\n",
    "    num2 = int(input(\"Enter another number: \"))\n",
    "    result = num1 / num2\n",
    "except ZeroDivisionError:\n",
    "    print(\"Error: Cannot divide by zero.\")\n",
    "else:\n",
    "    print(\"The result is:\", result)\n"
   ]
  },
  {
   "cell_type": "code",
   "execution_count": 8,
   "id": "2e1d8799-7b48-45be-b144-549f0689e300",
   "metadata": {},
   "outputs": [
    {
     "name": "stdin",
     "output_type": "stream",
     "text": [
      "Enter a number:  10\n",
      "Enter another number:  0\n"
     ]
    },
    {
     "name": "stdout",
     "output_type": "stream",
     "text": [
      "Error: Cannot divide by zero.\n"
     ]
    }
   ],
   "source": [
    "## or if we enter 10 and 0\n",
    "## example for try and else:\n",
    "try:\n",
    "    num1 = int(input(\"Enter a number: \"))\n",
    "    num2 = int(input(\"Enter another number: \"))\n",
    "    result = num1 / num2\n",
    "except ZeroDivisionError:\n",
    "    print(\"Error: Cannot divide by zero.\")\n",
    "else:\n",
    "    print(\"The result is:\", result)\n"
   ]
  },
  {
   "cell_type": "markdown",
   "id": "850b6d7e-2c8f-4d8f-81b3-2ecccd4ec81a",
   "metadata": {},
   "source": [
    "* b) finally: In Python, you can use the finally statement with a try statement to define a block of code that should be executed regardless of whether an exception is raised or not. The finally block is executed after the try and except blocks, regardless of whether an exception occurred or not."
   ]
  },
  {
   "cell_type": "code",
   "execution_count": 9,
   "id": "14af9af7-82fc-4203-80e5-73fe98a2b842",
   "metadata": {},
   "outputs": [],
   "source": [
    "### example for finally:\n",
    "try:\n",
    "    file = open(\"example.txt\", \"r\")\n",
    "    # perform some file operations\n",
    "except FileNotFoundError:\n",
    "    print(\"Error: File not found.\")\n",
    "finally:\n",
    "    file.close()\n"
   ]
  },
  {
   "cell_type": "markdown",
   "id": "8edceddb-27ac-432b-ba7e-8d0fba490dda",
   "metadata": {},
   "source": [
    "* in the above example we use a try statement to attempt to open a file and perform some file operations. If a FileNotFoundError exception is raised, we catch the exception using the except statement and execute the block of code inside the corresponding except block. Regardless of whether an exception is raised or not, we execute the block of code inside the finally block to close the file."
   ]
  },
  {
   "cell_type": "markdown",
   "id": "acc56d23-0739-42e1-82d3-0e109c20d2fa",
   "metadata": {},
   "source": [
    "* c) raise: In Python, you can use the raise statement to raise an exception explicitly. You can raise built-in exceptions or create your own custom exceptions by defining a new exception class."
   ]
  },
  {
   "cell_type": "code",
   "execution_count": 10,
   "id": "4b12fa5e-fc06-4a3d-917e-6d1430c3e28e",
   "metadata": {},
   "outputs": [
    {
     "name": "stdout",
     "output_type": "stream",
     "text": [
      "23\n"
     ]
    },
    {
     "ename": "ValueError",
     "evalue": "Invalid year.",
     "output_type": "error",
     "traceback": [
      "\u001b[0;31m---------------------------------------------------------------------------\u001b[0m",
      "\u001b[0;31mValueError\u001b[0m                                Traceback (most recent call last)",
      "Cell \u001b[0;32mIn[10], line 10\u001b[0m\n\u001b[1;32m      7\u001b[0m     \u001b[38;5;28;01mreturn\u001b[39;00m age\n\u001b[1;32m      9\u001b[0m \u001b[38;5;28mprint\u001b[39m(calculate_age(\u001b[38;5;241m2000\u001b[39m)) \u001b[38;5;66;03m# Output: 23\u001b[39;00m\n\u001b[0;32m---> 10\u001b[0m \u001b[38;5;28mprint\u001b[39m(\u001b[43mcalculate_age\u001b[49m\u001b[43m(\u001b[49m\u001b[38;5;241;43m2024\u001b[39;49m\u001b[43m)\u001b[49m) \u001b[38;5;66;03m# Raises a ValueError exception with the message \"Invalid year.\"\u001b[39;00m\n",
      "Cell \u001b[0;32mIn[10], line 5\u001b[0m, in \u001b[0;36mcalculate_age\u001b[0;34m(year)\u001b[0m\n\u001b[1;32m      3\u001b[0m current_year \u001b[38;5;241m=\u001b[39m \u001b[38;5;241m2023\u001b[39m\n\u001b[1;32m      4\u001b[0m \u001b[38;5;28;01mif\u001b[39;00m year \u001b[38;5;241m>\u001b[39m current_year:\n\u001b[0;32m----> 5\u001b[0m     \u001b[38;5;28;01mraise\u001b[39;00m \u001b[38;5;167;01mValueError\u001b[39;00m(\u001b[38;5;124m\"\u001b[39m\u001b[38;5;124mInvalid year.\u001b[39m\u001b[38;5;124m\"\u001b[39m)\n\u001b[1;32m      6\u001b[0m age \u001b[38;5;241m=\u001b[39m current_year \u001b[38;5;241m-\u001b[39m year\n\u001b[1;32m      7\u001b[0m \u001b[38;5;28;01mreturn\u001b[39;00m age\n",
      "\u001b[0;31mValueError\u001b[0m: Invalid year."
     ]
    }
   ],
   "source": [
    "## example for raise \n",
    "def calculate_age(year):\n",
    "    current_year = 2023\n",
    "    if year > current_year:\n",
    "        raise ValueError(\"Invalid year.\")\n",
    "    age = current_year - year\n",
    "    return age\n",
    "\n",
    "print(calculate_age(2000)) # Output: 23\n",
    "print(calculate_age(2024)) # Raises a ValueError exception with the message \"Invalid year.\"\n"
   ]
  },
  {
   "cell_type": "markdown",
   "id": "980a420c-b1e1-46b7-a4d0-59bcb38bc30b",
   "metadata": {},
   "source": [
    "* in the above example we define a function calculate_age() that takes a birth year as an argument and calculates the age of the person. If the birth year is in the future, we raise a ValueError exception with the message \"Invalid year.\" If the birth year is valid, we calculate the age of the person and return it."
   ]
  },
  {
   "cell_type": "markdown",
   "id": "54cb4711-601f-439e-a6a4-f14d78b7d6be",
   "metadata": {},
   "source": [
    "#### Q5.What are custom Exceptions in python? why do we need custome exceptions? explain with an example."
   ]
  },
  {
   "cell_type": "markdown",
   "id": "cba482e7-257e-43e9-baf5-26c237cbdbea",
   "metadata": {},
   "source": [
    "* In Python, custom exceptions are user-defined exceptions that allow developers to create their own exceptional scenarios that are specific to their applications. Custom exceptions provide a way to handle errors that are not covered by built-in exceptions. They are useful when you want to create a more descriptive error message or when you want to handle an error in a specific way.\n",
    "\n",
    "* For example, imagine that you are building a program that reads data from a file and you want to raise an exception if the file does not exist. Instead of using the built-in FileNotFoundError, you can create your own exception, such as FileDoesNotExistError, which provides a more descriptive error message."
   ]
  },
  {
   "cell_type": "code",
   "execution_count": 12,
   "id": "ae6eb098-1d41-4f34-b836-d7ffa156bfda",
   "metadata": {},
   "outputs": [
    {
     "ename": "FileDoesNotExistError",
     "evalue": "File 'non_existent_file.txt' does not exist",
     "output_type": "error",
     "traceback": [
      "\u001b[0;31m---------------------------------------------------------------------------\u001b[0m",
      "\u001b[0;31mFileNotFoundError\u001b[0m                         Traceback (most recent call last)",
      "Cell \u001b[0;32mIn[12], line 7\u001b[0m, in \u001b[0;36mread_file\u001b[0;34m(filename)\u001b[0m\n\u001b[1;32m      6\u001b[0m \u001b[38;5;28;01mtry\u001b[39;00m:\n\u001b[0;32m----> 7\u001b[0m     \u001b[38;5;28;01mwith\u001b[39;00m \u001b[38;5;28;43mopen\u001b[39;49m\u001b[43m(\u001b[49m\u001b[43mfilename\u001b[49m\u001b[43m,\u001b[49m\u001b[43m \u001b[49m\u001b[38;5;124;43m'\u001b[39;49m\u001b[38;5;124;43mr\u001b[39;49m\u001b[38;5;124;43m'\u001b[39;49m\u001b[43m)\u001b[49m \u001b[38;5;28;01mas\u001b[39;00m f:\n\u001b[1;32m      8\u001b[0m         data \u001b[38;5;241m=\u001b[39m f\u001b[38;5;241m.\u001b[39mread()\n",
      "File \u001b[0;32m/opt/conda/lib/python3.10/site-packages/IPython/core/interactiveshell.py:282\u001b[0m, in \u001b[0;36m_modified_open\u001b[0;34m(file, *args, **kwargs)\u001b[0m\n\u001b[1;32m    276\u001b[0m     \u001b[38;5;28;01mraise\u001b[39;00m \u001b[38;5;167;01mValueError\u001b[39;00m(\n\u001b[1;32m    277\u001b[0m         \u001b[38;5;124mf\u001b[39m\u001b[38;5;124m\"\u001b[39m\u001b[38;5;124mIPython won\u001b[39m\u001b[38;5;124m'\u001b[39m\u001b[38;5;124mt let you open fd=\u001b[39m\u001b[38;5;132;01m{\u001b[39;00mfile\u001b[38;5;132;01m}\u001b[39;00m\u001b[38;5;124m by default \u001b[39m\u001b[38;5;124m\"\u001b[39m\n\u001b[1;32m    278\u001b[0m         \u001b[38;5;124m\"\u001b[39m\u001b[38;5;124mas it is likely to crash IPython. If you know what you are doing, \u001b[39m\u001b[38;5;124m\"\u001b[39m\n\u001b[1;32m    279\u001b[0m         \u001b[38;5;124m\"\u001b[39m\u001b[38;5;124myou can use builtins\u001b[39m\u001b[38;5;124m'\u001b[39m\u001b[38;5;124m open.\u001b[39m\u001b[38;5;124m\"\u001b[39m\n\u001b[1;32m    280\u001b[0m     )\n\u001b[0;32m--> 282\u001b[0m \u001b[38;5;28;01mreturn\u001b[39;00m \u001b[43mio_open\u001b[49m\u001b[43m(\u001b[49m\u001b[43mfile\u001b[49m\u001b[43m,\u001b[49m\u001b[43m \u001b[49m\u001b[38;5;241;43m*\u001b[39;49m\u001b[43margs\u001b[49m\u001b[43m,\u001b[49m\u001b[43m \u001b[49m\u001b[38;5;241;43m*\u001b[39;49m\u001b[38;5;241;43m*\u001b[39;49m\u001b[43mkwargs\u001b[49m\u001b[43m)\u001b[49m\n",
      "\u001b[0;31mFileNotFoundError\u001b[0m: [Errno 2] No such file or directory: 'non_existent_file.txt'",
      "\nDuring handling of the above exception, another exception occurred:\n",
      "\u001b[0;31mFileDoesNotExistError\u001b[0m                     Traceback (most recent call last)",
      "Cell \u001b[0;32mIn[12], line 13\u001b[0m\n\u001b[1;32m     10\u001b[0m     \u001b[38;5;28;01mexcept\u001b[39;00m \u001b[38;5;167;01mFileNotFoundError\u001b[39;00m:\n\u001b[1;32m     11\u001b[0m         \u001b[38;5;28;01mraise\u001b[39;00m FileDoesNotExistError(\u001b[38;5;124mf\u001b[39m\u001b[38;5;124m\"\u001b[39m\u001b[38;5;124mFile \u001b[39m\u001b[38;5;124m'\u001b[39m\u001b[38;5;132;01m{\u001b[39;00mfilename\u001b[38;5;132;01m}\u001b[39;00m\u001b[38;5;124m'\u001b[39m\u001b[38;5;124m does not exist\u001b[39m\u001b[38;5;124m\"\u001b[39m)\n\u001b[0;32m---> 13\u001b[0m \u001b[43mread_file\u001b[49m\u001b[43m(\u001b[49m\u001b[38;5;124;43m\"\u001b[39;49m\u001b[38;5;124;43mnon_existent_file.txt\u001b[39;49m\u001b[38;5;124;43m\"\u001b[39;49m\u001b[43m)\u001b[49m\n",
      "Cell \u001b[0;32mIn[12], line 11\u001b[0m, in \u001b[0;36mread_file\u001b[0;34m(filename)\u001b[0m\n\u001b[1;32m      9\u001b[0m         \u001b[38;5;28mprint\u001b[39m(data)\n\u001b[1;32m     10\u001b[0m \u001b[38;5;28;01mexcept\u001b[39;00m \u001b[38;5;167;01mFileNotFoundError\u001b[39;00m:\n\u001b[0;32m---> 11\u001b[0m     \u001b[38;5;28;01mraise\u001b[39;00m FileDoesNotExistError(\u001b[38;5;124mf\u001b[39m\u001b[38;5;124m\"\u001b[39m\u001b[38;5;124mFile \u001b[39m\u001b[38;5;124m'\u001b[39m\u001b[38;5;132;01m{\u001b[39;00mfilename\u001b[38;5;132;01m}\u001b[39;00m\u001b[38;5;124m'\u001b[39m\u001b[38;5;124m does not exist\u001b[39m\u001b[38;5;124m\"\u001b[39m)\n",
      "\u001b[0;31mFileDoesNotExistError\u001b[0m: File 'non_existent_file.txt' does not exist"
     ]
    }
   ],
   "source": [
    "## example \n",
    "class FileDoesNotExistError(Exception):\n",
    "    pass\n",
    "\n",
    "def read_file(filename):\n",
    "    try:\n",
    "        with open(filename, 'r') as f:\n",
    "            data = f.read()\n",
    "            print(data)\n",
    "    except FileNotFoundError:\n",
    "        raise FileDoesNotExistError(f\"File '{filename}' does not exist\")\n",
    "\n",
    "read_file(\"non_existent_file.txt\")\n"
   ]
  },
  {
   "cell_type": "markdown",
   "id": "30596e70-9477-44ff-9148-373594e70b2e",
   "metadata": {},
   "source": [
    "* In this example, we define a custom exception called FileDoesNotExistError. We then define a function called read_file that tries to open and read the contents of a file. If the file does not exist, instead of using the built-in FileNotFoundError, we raise our custom FileDoesNotExistError, which provides a more descriptive error message. When we call read_file with a non-existent file, it raises our custom exception with the specified message."
   ]
  },
  {
   "cell_type": "markdown",
   "id": "81badf21-1636-451b-aff5-f8e2d9d6973a",
   "metadata": {},
   "source": [
    "#### Q6.Create a custom exception class. use this class to handle an exception."
   ]
  },
  {
   "cell_type": "code",
   "execution_count": 1,
   "id": "ce4a633d-6b87-4857-9c9c-18f43a294012",
   "metadata": {},
   "outputs": [
    {
     "name": "stdout",
     "output_type": "stream",
     "text": [
      "Cannot calculate square root of a negative number\n"
     ]
    }
   ],
   "source": [
    "class NegativeNumberError(Exception):\n",
    "    \"\"\"Exception raised when a negative number is encountered.\"\"\"\n",
    "    pass\n",
    "\n",
    "def square_root(num):\n",
    "    if num < 0:\n",
    "        raise NegativeNumberError(\"Cannot calculate square root of a negative number\")\n",
    "    return num ** 0.5\n",
    "\n",
    "try:\n",
    "    print(square_root(-4))\n",
    "except NegativeNumberError as e:\n",
    "    print(e)\n"
   ]
  },
  {
   "cell_type": "markdown",
   "id": "3b87cb4c-49a0-4539-82f7-d873dd7f63c6",
   "metadata": {},
   "source": [
    "* In this example, we define a custom exception class called NegativeNumberError that is raised when a negative number is encountered. We then define a function called square_root that calculates the square root of a number. If the number is negative, we raise our custom NegativeNumberError with a descriptive error message.\n",
    "* In the try block, we call the square_root function with a negative number (-4). Since this will trigger the custom exception, the except block is executed and the error message \"Cannot calculate square root of a negative number\" is printed to the console."
   ]
  },
  {
   "cell_type": "code",
   "execution_count": null,
   "id": "26fe9d55-4fde-4abf-8548-0294f8e5b292",
   "metadata": {},
   "outputs": [],
   "source": []
  }
 ],
 "metadata": {
  "kernelspec": {
   "display_name": "Python 3 (ipykernel)",
   "language": "python",
   "name": "python3"
  },
  "language_info": {
   "codemirror_mode": {
    "name": "ipython",
    "version": 3
   },
   "file_extension": ".py",
   "mimetype": "text/x-python",
   "name": "python",
   "nbconvert_exporter": "python",
   "pygments_lexer": "ipython3",
   "version": "3.10.8"
  }
 },
 "nbformat": 4,
 "nbformat_minor": 5
}
