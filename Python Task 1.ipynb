{
 "cells": [
  {
   "cell_type": "markdown",
   "id": "a37f4dbe-6510-43f8-b6ec-b1d20756412b",
   "metadata": {},
   "source": [
    "#### Q1. Create a function which will take a list as an argument and return the product of all the numbers after creating a flat list.Use the below-given list as an argument for your function.list1 = [1,2,3,4, [44,55,66, True], False, (34,56,78,89,34), {1,2,3,3,2,1}, {1:34, \"key2\": [55, 67, 78, 89], 4: (45,22, 61, 34)}, [56, 'data science'], 'Machine Learning']\n",
    "* Note: you must extract numeric keys and values of the dictionary also."
   ]
  },
  {
   "cell_type": "code",
   "execution_count": 2,
   "id": "ac9c7e13-f299-4d58-ab0d-58c43d75c764",
   "metadata": {},
   "outputs": [
    {
     "name": "stdout",
     "output_type": "stream",
     "text": [
      "[1, 2, 3, 4, 44, 55, 66, True, False, 34, 56, 78, 89, 34, 1, 2, 3, 34, 55, 67, 78, 89, 45, 22, 61, 34, 56, 'data science', 'Machine Learning']\n"
     ]
    }
   ],
   "source": [
    "## Solution\n",
    "list1 = [1,2,3,4, [44,55,66, True], False, (34,56,78,89,34), {1,2,3,3,2,1}, {1:34, \"key2\": [55, 67, 78, 89], 4: (45,22, 61, 34)}, [56, 'data science'], 'Machine Learning']\n",
    "def flatten(lst):\n",
    "    flat_list=[]\n",
    "    for element in lst:\n",
    "        if isinstance(element,(list,tuple,set)):\n",
    "            flat_list.extend(flatten(element))\n",
    "        elif isinstance(element,dict):\n",
    "            flat_list.extend(flatten(list(element.values())))\n",
    "        else:\n",
    "            flat_list.append(element)\n",
    "    return flat_list\n",
    "\n",
    "flat_list=flatten(list1)\n",
    "print(flat_list)\n"
   ]
  },
  {
   "cell_type": "code",
   "execution_count": 3,
   "id": "81e48e53-408d-4c20-8446-f02890218bd9",
   "metadata": {},
   "outputs": [
    {
     "name": "stdout",
     "output_type": "stream",
     "text": [
      "product of flat_list : 0\n"
     ]
    }
   ],
   "source": [
    "## now we need to product of the flat list\n",
    "product=1\n",
    "for num in flat_list:\n",
    "    if isinstance(num,(int,float)):\n",
    "        product=product*num\n",
    "print(\"product of flat_list :\",product)"
   ]
  },
  {
   "cell_type": "markdown",
   "id": "36fcf653-8e8f-4904-b1e6-08f345002cbb",
   "metadata": {},
   "source": [
    "* the product of flat_list is 0. why because the flat list has a value false. the false is inbuilt function it contain 0 value"
   ]
  },
  {
   "cell_type": "markdown",
   "id": "be465419-3407-45a5-8524-66ae03b3a385",
   "metadata": {},
   "source": [
    "#### Q2. Write a python program for encrypting a message sent to you by your friend. The logic of encryption should be such that, for a the output should be z. For b, the output should be y. For c, the output should be x respectively. Also, the whitespace should be replaced with a dollar sign. Keep the punctuation marks unchanged.\n",
    "* Input Sentence: I want to become a Data Scientist.\n",
    "* Encrypt the above input sentence using the program you just created.\n",
    "* Note: Convert the given input sentence into lowercase before encrypting. The final output should be lowercase."
   ]
  },
  {
   "cell_type": "code",
   "execution_count": 2,
   "id": "0a2f8b30-cf1a-4e4d-896c-8ac4bff6e391",
   "metadata": {},
   "outputs": [
    {
     "name": "stdout",
     "output_type": "stream",
     "text": [
      "Original sentence: I want to become a Data Scientist.\n",
      "Encrypted sentence: r$dzmg$gl$yvxlnv$z$wzgz$hxrvmgrhg.\n"
     ]
    }
   ],
   "source": [
    "def encrypt_message(message):\n",
    "    encrypted = \"\"\n",
    "    for char in message.lower():\n",
    "        if char.isalpha():\n",
    "            encrypted += chr(ord('a') + ord('z') - ord(char))\n",
    "        elif char.isspace():\n",
    "            encrypted += \"$\"\n",
    "        else:\n",
    "            encrypted += char\n",
    "    return encrypted\n",
    "\n",
    "input_sentence = \"I want to become a Data Scientist.\"\n",
    "encrypted_sentence = encrypt_message(input_sentence)\n",
    "\n",
    "print(\"Original sentence:\", input_sentence)\n",
    "print(\"Encrypted sentence:\", encrypted_sentence)\n"
   ]
  }
 ],
 "metadata": {
  "kernelspec": {
   "display_name": "Python 3 (ipykernel)",
   "language": "python",
   "name": "python3"
  },
  "language_info": {
   "codemirror_mode": {
    "name": "ipython",
    "version": 3
   },
   "file_extension": ".py",
   "mimetype": "text/x-python",
   "name": "python",
   "nbconvert_exporter": "python",
   "pygments_lexer": "ipython3",
   "version": "3.10.8"
  }
 },
 "nbformat": 4,
 "nbformat_minor": 5
}
