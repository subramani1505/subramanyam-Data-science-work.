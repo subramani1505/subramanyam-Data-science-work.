{
 "cells": [
  {
   "cell_type": "raw",
   "id": "0624dc52-f7e9-4906-a60d-67475f4be1de",
   "metadata": {},
   "source": [
    "1.Write a program to accept percentage from the user and display the grade according to the following criteria"
   ]
  },
  {
   "cell_type": "raw",
   "id": "21ce55c0-fff9-403a-9967-75dc36090f50",
   "metadata": {},
   "source": [
    "# Percentage           Grade\n",
    "# >90                    A\n",
    "# >80 and <=90           B\n",
    "# >=60 and <=80          C\n",
    "# below 60               D"
   ]
  },
  {
   "cell_type": "code",
   "execution_count": 1,
   "id": "973f7a4a-05cd-41f5-a79b-a3965ac006d7",
   "metadata": {},
   "outputs": [
    {
     "name": "stdin",
     "output_type": "stream",
     "text": [
      "enter the value of percentage: 91\n"
     ]
    },
    {
     "name": "stdout",
     "output_type": "stream",
     "text": [
      "Grade is:A\n"
     ]
    }
   ],
   "source": [
    "## Solution:checking the integer value\n",
    "percentage=int(float(input(\"enter the value of percentage:\")))\n",
    "if percentage>90:\n",
    "    print(\"Grade is:A\")\n",
    "elif percentage>80 and percentage<=90:\n",
    "    print(\"Grade is:B\")\n",
    "elif percentage>=60 and percentage<=80:\n",
    "    print(\"Grade is:C\")\n",
    "else:\n",
    "    print(\"Grade is:D\")"
   ]
  },
  {
   "cell_type": "code",
   "execution_count": 2,
   "id": "14e5f012-ba5a-4058-823c-52ecf06eff92",
   "metadata": {},
   "outputs": [
    {
     "name": "stdin",
     "output_type": "stream",
     "text": [
      "enter the value of percentage: 87.2\n"
     ]
    },
    {
     "name": "stdout",
     "output_type": "stream",
     "text": [
      "Grade is:B\n"
     ]
    }
   ],
   "source": [
    "## Solution:## checking the decimal value\n",
    "percentage=int(float(input(\"enter the value of percentage:\")))\n",
    "if percentage>90:\n",
    "    print(\"Grade is:A\")\n",
    "elif percentage>80 and percentage<=90:\n",
    "    print(\"Grade is:B\")\n",
    "elif percentage>=60 and percentage<=80:\n",
    "    print(\"Grade is:C\")\n",
    "else:\n",
    "    print(\"Grade is:D\")"
   ]
  },
  {
   "cell_type": "code",
   "execution_count": 3,
   "id": "ff7d0b28-fbb6-448f-851b-e1b7de37b9b8",
   "metadata": {},
   "outputs": [
    {
     "name": "stdin",
     "output_type": "stream",
     "text": [
      "enter the value of percentage: 65\n"
     ]
    },
    {
     "name": "stdout",
     "output_type": "stream",
     "text": [
      "Grade is:C\n"
     ]
    }
   ],
   "source": [
    "## Solution:checking the conditions\n",
    "percentage=int(float(input(\"enter the value of percentage:\")))\n",
    "if percentage>90:\n",
    "    print(\"Grade is:A\")\n",
    "elif percentage>80 and percentage<=90:\n",
    "    print(\"Grade is:B\")\n",
    "elif percentage>=60 and percentage<=80:\n",
    "    print(\"Grade is:C\")\n",
    "else:\n",
    "    print(\"Grade is:D\")"
   ]
  },
  {
   "cell_type": "code",
   "execution_count": 4,
   "id": "0806b010-b9d6-4b7a-93a0-eee4e08cdaef",
   "metadata": {},
   "outputs": [
    {
     "name": "stdin",
     "output_type": "stream",
     "text": [
      "enter the value of percentage: 57\n"
     ]
    },
    {
     "name": "stdout",
     "output_type": "stream",
     "text": [
      "Grade is:D\n"
     ]
    }
   ],
   "source": [
    "## Solution: cecking the conditions\n",
    "percentage=int(float(input(\"enter the value of percentage:\")))\n",
    "if percentage>90:\n",
    "    print(\"Grade is:A\")\n",
    "elif percentage>80 and percentage<=90:\n",
    "    print(\"Grade is:B\")\n",
    "elif percentage>=60 and percentage<=80:\n",
    "    print(\"Grade is:C\")\n",
    "else:\n",
    "    print(\"Grade is:D\")"
   ]
  },
  {
   "cell_type": "raw",
   "id": "d3be0f0b-540d-4777-aeaa-705cd7d49159",
   "metadata": {},
   "source": [
    "2.Write the Program to accept the cost price of a bike and display the road tax to be paid according to the following criteria.\n",
    "\n",
    "Tax       cost price in(Rs)\n",
    " 15%       >100000\n",
    " 10%       >50000 and <=100000\n",
    " 5%        <=50000"
   ]
  },
  {
   "cell_type": "code",
   "execution_count": 13,
   "id": "2de53f3a-d5c0-487e-a5e9-a2dbee09f089",
   "metadata": {},
   "outputs": [
    {
     "name": "stdin",
     "output_type": "stream",
     "text": [
      "enter the cost price of the Bike in(Rs): 55000\n"
     ]
    },
    {
     "name": "stdout",
     "output_type": "stream",
     "text": [
      "The road tax to be paid: 5500.0 Rs\n"
     ]
    }
   ],
   "source": [
    "# Solution:Method-1\n",
    "CP=int(input(\"enter the cost price of the Bike in(Rs):\"))  ## CP= cost price in(Rs)\n",
    "if CP>100000:\n",
    "    print(\"The road tax to be paid:\",CP*15/100,\"Rs\")\n",
    "elif CP>50000 and CP<=100000:\n",
    "    print(\"The road tax to be paid:\",CP*10/100,\"Rs\")\n",
    "else:\n",
    "    print(\"The road tax to be paid:\",CP*5/100,\"Rs\")"
   ]
  },
  {
   "cell_type": "code",
   "execution_count": 12,
   "id": "696ec0a5-0c11-47f1-bb12-b0fba4913730",
   "metadata": {},
   "outputs": [
    {
     "name": "stdin",
     "output_type": "stream",
     "text": [
      "enter the cost price of the Bike in(Rs): 100500\n"
     ]
    },
    {
     "name": "stdout",
     "output_type": "stream",
     "text": [
      "The road tax to be paid: 15075.0 Rs\n"
     ]
    }
   ],
   "source": [
    "## # Solution:checking the conditions\n",
    "CP=int(input(\"enter the cost price of the Bike in(Rs):\"))  ## CP= cost price in(Rs)\n",
    "if CP>100000:\n",
    "    print(\"The road tax to be paid:\",CP*15/100,\"Rs\")\n",
    "elif CP>50000 and CP<=100000:\n",
    "    print(\"The road tax to be paid:\",CP*10/100,\"Rs\")\n",
    "else:\n",
    "    print(\"The road tax to be paid:\",CP*5/100,\"Rs\")"
   ]
  },
  {
   "cell_type": "code",
   "execution_count": 11,
   "id": "c3bfe75b-2458-41c4-984e-a5b8ec107784",
   "metadata": {},
   "outputs": [
    {
     "name": "stdin",
     "output_type": "stream",
     "text": [
      "enter the cost price of the Bike in(Rs): 45000\n"
     ]
    },
    {
     "name": "stdout",
     "output_type": "stream",
     "text": [
      "The road tax to be paid: 2250.0 Rs\n"
     ]
    }
   ],
   "source": [
    "# Solution:Method-2 Using List\n",
    "CP=int(input(\"enter the cost price of the Bike in(Rs):\"))  ## CP= cost price in Rs\n",
    "tax=[15/100,10/100,5/100]\n",
    "if CP>100000:\n",
    "    print(\"The road tax to be paid:\",CP*tax[0],\"Rs\")\n",
    "elif CP>50000 and CP<=100000:\n",
    "    print(\"The road tax to be paid:\",CP*tax[1],\"Rs\")\n",
    "else:\n",
    "    print(\"The road tax to be paid:\",CP*tax[2],\"Rs\")"
   ]
  },
  {
   "cell_type": "code",
   "execution_count": 10,
   "id": "fd2c8545-6c67-4eef-bb62-5d262994ccd4",
   "metadata": {},
   "outputs": [
    {
     "name": "stdin",
     "output_type": "stream",
     "text": [
      "enter the cost price of the Bike in(Rs): 10500\n"
     ]
    },
    {
     "name": "stdout",
     "output_type": "stream",
     "text": [
      "The road tax to be paid: 525.0 Rs\n"
     ]
    }
   ],
   "source": [
    "# Solution: checking the conditions\n",
    "CP=int(input(\"enter the cost price of the Bike in(Rs):\"))  ## CP= cost price in Rs\n",
    "tax=[15/100,10/100,5/100]\n",
    "if CP>100000:\n",
    "    print(\"The road tax to be paid:\",CP*tax[0],\"Rs\")\n",
    "elif CP>50000 and CP<=100000:\n",
    "    print(\"The road tax to be paid:\",CP*tax[1],\"Rs\")\n",
    "else:\n",
    "    print(\"The road tax to be paid:\",CP*tax[2],\"Rs\")"
   ]
  },
  {
   "cell_type": "raw",
   "id": "80014435-239e-4a4e-bbe4-9c0ec51e1886",
   "metadata": {},
   "source": [
    "3.Accept any city from the user and display monuments of the city.\n",
    "\n",
    "city                   Monuments\n",
    "Delhi                  Redfort\n",
    "agra                   Tajmahal\n",
    "jaipur                 Jal mahal"
   ]
  },
  {
   "cell_type": "code",
   "execution_count": 1,
   "id": "472d6e80-5c24-4a24-96d7-ee83678c81d2",
   "metadata": {},
   "outputs": [
    {
     "name": "stdin",
     "output_type": "stream",
     "text": [
      "Enter the name of city:  delhi\n"
     ]
    },
    {
     "name": "stdout",
     "output_type": "stream",
     "text": [
      "The monument of delhi is: Red Fort\n"
     ]
    }
   ],
   "source": [
    "## solution\n",
    "city = input(\"Enter the name of city: \")\n",
    "if city.lower() == 'delhi':##lower() method to convert the input city name to lowercase, so that the code will match the city names in lowercase letters even if the user inputs them with uppercase letters.             \n",
    "    print(\"The monument of\", city, \"is: Red Fort\")\n",
    "elif city.lower() == 'agra':\n",
    "    print(\"The monument of\", city, \"is: Taj Mahal\")\n",
    "elif city.lower() == 'jaipur':\n",
    "    print(\"The monument of\", city, \"is: Jal Mahal\")\n",
    "else:\n",
    "    print(\"Sorry, the monument of\", city, \"does not exist in our Table.\")"
   ]
  },
  {
   "cell_type": "code",
   "execution_count": 1,
   "id": "e895e14a-40f8-4a36-be44-f5b6575ff163",
   "metadata": {},
   "outputs": [
    {
     "name": "stdin",
     "output_type": "stream",
     "text": [
      "Enter the name of city:  kolar\n"
     ]
    },
    {
     "name": "stdout",
     "output_type": "stream",
     "text": [
      "Sorry, the monument of kolar does not exist in our Table.\n"
     ]
    }
   ],
   "source": [
    "city = input(\"Enter the name of city: \")\n",
    "if city.lower() == 'delhi':\n",
    "    print(\"The monument of\", city, \"is: Red Fort\")\n",
    "elif city.lower() == 'agra':\n",
    "    print(\"The monument of\", city, \"is: Taj Mahal\")\n",
    "elif city.lower() == 'jaipur':\n",
    "    print(\"The monument of\", city, \"is: Jal Mahal\")\n",
    "else:\n",
    "    print(\"Sorry, the monument of\", city, \"does not exist in our Table.\")"
   ]
  },
  {
   "cell_type": "raw",
   "id": "80536ffc-bfe9-4e18-b7cd-072cebf44f26",
   "metadata": {},
   "source": [
    "4.Check how many times the given number can be divided by 3 before it is less than or equal to 10."
   ]
  },
  {
   "cell_type": "code",
   "execution_count": 1,
   "id": "9f8ed332-1f37-4f6b-836c-d71b789f76ab",
   "metadata": {},
   "outputs": [
    {
     "name": "stdin",
     "output_type": "stream",
     "text": [
      "Enter the number:  6\n"
     ]
    },
    {
     "name": "stdout",
     "output_type": "stream",
     "text": [
      "The given number can be divided by 3 in  0 times before it is less than or equal to 10.\n"
     ]
    }
   ],
   "source": [
    "## solution:\n",
    "x = int(input(\"Enter the number: \"))\n",
    "i = 0\n",
    "while x >10:\n",
    "    x = x / 3\n",
    "    i = i + 1\n",
    "print(\"The given number can be divided by 3 in \", i, \"times before it is less than or equal to 10.\")\n"
   ]
  },
  {
   "cell_type": "raw",
   "id": "7cc527be-7f94-49a9-82f0-728dceab9587",
   "metadata": {},
   "source": [
    "5.Why and when to use while loop in python give a detailed description with example."
   ]
  },
  {
   "cell_type": "markdown",
   "id": "49a32374-92de-45b1-ae2c-e650385386cb",
   "metadata": {},
   "source": [
    "#### Solution:\n",
    "#### In Python, a while loop is used to repeatedly execute a block of code as long as a certain condition is met. The loop will continue to run until the condition is no longer true. The while loop is useful when you need to perform a specific action repeatedly based on some condition, without knowing beforehand how many times the loop needs to run.\n",
    "\n"
   ]
  },
  {
   "cell_type": "code",
   "execution_count": 15,
   "id": "ab79269a-7565-4465-9b0d-2d2dd867edbf",
   "metadata": {},
   "outputs": [
    {
     "name": "stdout",
     "output_type": "stream",
     "text": [
      "1\n",
      "2\n",
      "3\n",
      "4\n",
      "5\n",
      "Loop ended.\n"
     ]
    }
   ],
   "source": [
    "## Example of while loop \n",
    "# Program to print numbers from 1 to 5 using a while loop\n",
    "i = 1  # initialize a counter variable to 1\n",
    "\n",
    "while i <= 5:  # loop as long as i is less than or equal to 5\n",
    "    print(i)  # print the current value of i\n",
    "    i += 1  # increment i by 1\n",
    "\n",
    "print(\"Loop ended.\")  # print a message after the loop has ended\n"
   ]
  },
  {
   "cell_type": "raw",
   "id": "0e19d9cf-0897-43d7-913e-decd54b06ac6",
   "metadata": {},
   "source": [
    "6.use nested while loop to print 3 different patterns"
   ]
  },
  {
   "cell_type": "code",
   "execution_count": 16,
   "id": "07925d7d-030c-4d07-8528-9e0a6470c335",
   "metadata": {},
   "outputs": [
    {
     "name": "stdin",
     "output_type": "stream",
     "text": [
      "enter n: 4\n"
     ]
    },
    {
     "name": "stdout",
     "output_type": "stream",
     "text": [
      "* * * * \n",
      "* * * * \n",
      "* * * * \n",
      "* * * * \n"
     ]
    }
   ],
   "source": [
    "## Solution\n",
    "## 1st pattern Square\n",
    "n=int(input(\"enter n:\"))\n",
    "for i in range(n):\n",
    "    for j in range(n):\n",
    "        print(\"*\",end=\" \")\n",
    "    print()"
   ]
  },
  {
   "cell_type": "code",
   "execution_count": 17,
   "id": "5ed2ca15-078b-4050-80fe-7f68d014df07",
   "metadata": {},
   "outputs": [
    {
     "name": "stdin",
     "output_type": "stream",
     "text": [
      "enter n: 4\n"
     ]
    },
    {
     "name": "stdout",
     "output_type": "stream",
     "text": [
      "* \n",
      "* * \n",
      "* * * \n",
      "* * * * \n"
     ]
    }
   ],
   "source": [
    "## Solution\n",
    "## 2nd pattern Triangular pattern\n",
    "n=int(input(\"enter n:\"))\n",
    "for i in range(n):\n",
    "    for j in range(i+1):\n",
    "        print(\"*\",end=\" \")\n",
    "    print()"
   ]
  },
  {
   "cell_type": "code",
   "execution_count": 18,
   "id": "80610e8e-74e3-426a-8b53-fb6480c8f8de",
   "metadata": {},
   "outputs": [
    {
     "name": "stdin",
     "output_type": "stream",
     "text": [
      "enter n: 4\n"
     ]
    },
    {
     "name": "stdout",
     "output_type": "stream",
     "text": [
      "* * * * \n",
      "* * * \n",
      "* * \n",
      "* \n"
     ]
    }
   ],
   "source": [
    "## Solution\n",
    "## 3rd pattern inverted Triangular \n",
    "n=int(input(\"enter n:\"))\n",
    "for i in range(n):\n",
    "    for j in range(n-i):\n",
    "        print(\"*\",end=\" \")\n",
    "    print()"
   ]
  },
  {
   "cell_type": "code",
   "execution_count": 23,
   "id": "25ecd0aa-3550-47ba-ac6b-2e0fc5080f15",
   "metadata": {},
   "outputs": [
    {
     "name": "stdin",
     "output_type": "stream",
     "text": [
      "enter n: 5\n"
     ]
    },
    {
     "name": "stdout",
     "output_type": "stream",
     "text": [
      "        # \n",
      "      # # # \n",
      "    # # # # # \n",
      "  # # # # # # # \n",
      "# # # # # # # # # \n"
     ]
    }
   ],
   "source": [
    "## Solution\n",
    "## 4th pattern Triangular\n",
    "n=int(input(\"enter n:\"))\n",
    "for i in range(n):\n",
    "    for j in range(n-i-1):\n",
    "        print(\" \",end=\" \")\n",
    "    for k in range(2*i+1):\n",
    "        print(\"#\",end=\" \")\n",
    "    print()"
   ]
  },
  {
   "cell_type": "raw",
   "id": "27b03be5-e081-459d-8ac8-be471310473d",
   "metadata": {},
   "source": [
    "7.Reverse a while loop to display numbers from 10 to 1."
   ]
  },
  {
   "cell_type": "code",
   "execution_count": 24,
   "id": "98192960-28b4-414a-884e-6dfa14782d60",
   "metadata": {},
   "outputs": [
    {
     "name": "stdout",
     "output_type": "stream",
     "text": [
      "10\n",
      "9\n",
      "8\n",
      "7\n",
      "6\n",
      "5\n",
      "4\n",
      "3\n",
      "2\n",
      "1\n"
     ]
    }
   ],
   "source": [
    "i=10\n",
    "while i>=1:\n",
    "    print(i)\n",
    "    i=i-1"
   ]
  },
  {
   "cell_type": "raw",
   "id": "6c6471f9-7554-4663-88f6-5a61280feb94",
   "metadata": {},
   "source": [
    "8.Reverse a while loop to display numbers from 10 to 1."
   ]
  },
  {
   "cell_type": "code",
   "execution_count": 25,
   "id": "ecb6cf3b-abb2-4c59-a67e-1281196f1800",
   "metadata": {},
   "outputs": [
    {
     "name": "stdout",
     "output_type": "stream",
     "text": [
      "10\n",
      "9\n",
      "8\n",
      "7\n",
      "6\n",
      "5\n",
      "4\n",
      "3\n",
      "2\n",
      "1\n"
     ]
    }
   ],
   "source": [
    "i=10\n",
    "while i>=1:\n",
    "    print(i)\n",
    "    i=i-1"
   ]
  },
  {
   "cell_type": "code",
   "execution_count": null,
   "id": "91ee3de0-3dcd-4a0c-9d5f-5acff9786a7e",
   "metadata": {},
   "outputs": [],
   "source": []
  }
 ],
 "metadata": {
  "kernelspec": {
   "display_name": "Python 3 (ipykernel)",
   "language": "python",
   "name": "python3"
  },
  "language_info": {
   "codemirror_mode": {
    "name": "ipython",
    "version": 3
   },
   "file_extension": ".py",
   "mimetype": "text/x-python",
   "name": "python",
   "nbconvert_exporter": "python",
   "pygments_lexer": "ipython3",
   "version": "3.10.8"
  }
 },
 "nbformat": 4,
 "nbformat_minor": 5
}
