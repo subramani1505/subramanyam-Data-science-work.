{
 "cells": [
  {
   "cell_type": "markdown",
   "id": "efc110af-763e-45c7-bb9e-326dade73d84",
   "metadata": {},
   "source": [
    "#### Q1.What are the characteristics of the tuples? Is tuple immutable?"
   ]
  },
  {
   "cell_type": "markdown",
   "id": "d4cf1a70-13e2-498f-9ce8-f4c512c3eb64",
   "metadata": {},
   "source": [
    "##### Yes tuples are immutable.In Python, a tuple is an ordered, immutable sequence of values. The main characteristics of tuples are:\n",
    "\n",
    "* Ordered: Tuples maintain the order of the elements they contain, which means that the first element in the tuple is always at index 0, the second element is at index 1, and so on.\n",
    "\n",
    "* Immutable: Tuples are immutable, which means that once a tuple is created, its contents cannot be changed. It is not possible to add, remove, or modify elements in a tuple.\n",
    "\n",
    "* Heterogeneous: Tuples can contain elements of different data types. For example, a tuple can contain a combination of integers, floats, strings, and other objects.\n",
    "\n",
    "* Indexed: Tuples are indexed, which means that you can access individual elements in a tuple by their index.\n",
    "\n",
    "* Efficient: Tuples are more efficient than lists when it comes to memory usage and performance."
   ]
  },
  {
   "cell_type": "markdown",
   "id": "0b39a2a3-2d53-4f99-bad0-0350cde15cae",
   "metadata": {},
   "source": [
    "##### Q2.What are the two tuple methods in python? Give an example of each method. Give a reason why tuples have only two in-built methods as compared to Lists."
   ]
  },
  {
   "cell_type": "markdown",
   "id": "da5f87ba-8b23-45bd-982c-44ec51b3d322",
   "metadata": {},
   "source": [
    "##### In Python, tuples have two built-in methods:\n",
    "1. count(): This method returns the number of times a specified element appears in a tuple."
   ]
  },
  {
   "cell_type": "code",
   "execution_count": 1,
   "id": "8d4c04ab-c56e-4bdb-affa-53a076348868",
   "metadata": {},
   "outputs": [
    {
     "data": {
      "text/plain": [
       "3"
      ]
     },
     "execution_count": 1,
     "metadata": {},
     "output_type": "execute_result"
    }
   ],
   "source": [
    "## example of tuple\n",
    "tuple1 = (1, 2, 3, 2, 4, 5, 2)\n",
    "tuple1.count(2)  ## count the number of times 2 appears in the tuple it is 3 times o/p:3\n"
   ]
  },
  {
   "cell_type": "markdown",
   "id": "e7e40f93-84a8-4937-b3cc-bf2195d4174c",
   "metadata": {},
   "source": [
    "##### 2.index(): This method returns the index of the first occurrence of a specified element in a tuple."
   ]
  },
  {
   "cell_type": "code",
   "execution_count": 2,
   "id": "9f261895-7d0e-45c7-bfd6-fe2c9677efd0",
   "metadata": {},
   "outputs": [
    {
     "data": {
      "text/plain": [
       "2"
      ]
     },
     "execution_count": 2,
     "metadata": {},
     "output_type": "execute_result"
    }
   ],
   "source": [
    "## example for index()\n",
    "tuple1 = (1, 2, 3, 2, 4, 5, 2)\n",
    "tuple1.index(3)\n"
   ]
  },
  {
   "cell_type": "markdown",
   "id": "4bc2012b-3f7d-4cfb-80c7-a87dcc149b52",
   "metadata": {},
   "source": [
    "##### Tuples have only two built-in methods compared to lists because tuples are immutable, and they don't require many methods for modification. Lists, on the other hand, are mutable, which means they can be modified after they are created. Therefore, lists have a variety of built-in methods to add, remove, or modify elements, such as append(), insert(), remove(), pop(), and so on. Since tuples cannot be modified, they only need a few methods that provide information about the elements of the tuple, such as count() and index()."
   ]
  },
  {
   "cell_type": "markdown",
   "id": "3d9d03cd-7908-4cc4-b00d-0f4242004d7a",
   "metadata": {},
   "source": [
    "#### Q3.Which collection datatypes in python do not allow duplicate items? Write a code using a set to remove duplicates from the given list. List = [1, 1, 1, 2, 1, 3, 1, 4, 2, 1, 2, 2, 2, 3, 2, 4, 3, 1, 3, 2, 3, 3, 3, 4, 4, 1, 4, 2, 4, 3, 4, 4] "
   ]
  },
  {
   "cell_type": "code",
   "execution_count": 4,
   "id": "050a42de-0bdf-47f0-a6c1-4c668afa3d2d",
   "metadata": {},
   "outputs": [
    {
     "name": "stdout",
     "output_type": "stream",
     "text": [
      "{1, 2, 3, 4}\n"
     ]
    }
   ],
   "source": [
    "list=[1, 1, 1, 2, 1, 3, 1, 4, 2, 1, 2, 2, 2, 3, 2, 4, 3, 1, 3, 2, 3, 3, 3, 4, 4, 1, 4, 2, 4, 3, 4, 4]\n",
    "set1=set(list)\n",
    "print(set1) #set only contains unique elements, and duplicates are not allowed in a set. Therefore, by converting the list to a set, \n",
    "            #you effectively remove all the duplicates from the list."
   ]
  },
  {
   "cell_type": "markdown",
   "id": "352a4ecc-9178-4fbf-99f9-d93d7e0c0b9b",
   "metadata": {},
   "source": [
    "#### Q4.Explain the difference between the union() and update() methods for a set. Give an example of each method."
   ]
  },
  {
   "cell_type": "markdown",
   "id": "6780a1aa-21fc-4bae-a4cb-bbaeb2ca150d",
   "metadata": {},
   "source": [
    "##### In Python, sets have two methods for combining sets: union() and update(). Both methods return a new set that contains elements from the original set(s) and the set(s) being combined.\n",
    "1. union(): This method returns a new set that contains all the elements from the original set and the set(s) being combined. The original sets remain unchanged."
   ]
  },
  {
   "cell_type": "code",
   "execution_count": 7,
   "id": "89451b26-324e-411e-8ed2-9a68a8516d7b",
   "metadata": {},
   "outputs": [
    {
     "name": "stdout",
     "output_type": "stream",
     "text": [
      "{1, 2, 3, 4, 5}\n"
     ]
    }
   ],
   "source": [
    "## example of  a union\n",
    "set1 = {1,2,3}\n",
    "set2 = {3,4,5}\n",
    "set3 = set1.union(set2) ## or we can use symbol\n",
    "print(set3)## print(s1|s3)\n"
   ]
  },
  {
   "cell_type": "markdown",
   "id": "cc62ee5a-d9b6-4bb9-a886-5b58a2dd3336",
   "metadata": {},
   "source": [
    "2. update(): This method adds all the elements from the set(s) being combined to the original set. The original set is modified in place."
   ]
  },
  {
   "cell_type": "code",
   "execution_count": 6,
   "id": "4ce3d6f2-a8a1-42e3-afa4-88911d32f27f",
   "metadata": {},
   "outputs": [
    {
     "name": "stdout",
     "output_type": "stream",
     "text": [
      "{1, 2, 3, 4, 5}\n"
     ]
    }
   ],
   "source": [
    "## example for update()\n",
    "set1 = {1,2,3}\n",
    "set2 = {3,4,5}\n",
    "set1.update(set2)\n",
    "print(set1) "
   ]
  },
  {
   "cell_type": "markdown",
   "id": "acfb7a33-8033-4e14-bb7a-e990d94eab66",
   "metadata": {},
   "source": [
    "#### Q5.What is a dictionary? Give an example. Also, state whether a dictionary is ordered or unordered. "
   ]
  },
  {
   "cell_type": "markdown",
   "id": "03a3ed99-2f91-4b71-b029-4a80fb68c696",
   "metadata": {},
   "source": [
    "* Solution: A dictionary is a collection of data that is unordered, changeable, and indexed. It is a built-in data type in Python programming language that is used to store data values in key-value pairs. Each element in a dictionary is represented by a key-value pair, where the key is unique and is used to access the corresponding value.\n",
    "* statement: It is important to note that dictionaries in Python are unordered, which means that the elements are not stored in any particular order. If you try to access the elements of a dictionary by their index, you will get a TypeError. Instead, you must access the elements of a dictionary by their keys."
   ]
  },
  {
   "cell_type": "code",
   "execution_count": 14,
   "id": "4c42e2e7-46c2-410d-a29c-b024884bc714",
   "metadata": {},
   "outputs": [
    {
     "name": "stdout",
     "output_type": "stream",
     "text": [
      "{'name': 'Subramani', 'age': 22, 'city': 'Bengaluru'}\n",
      "<class 'dict'>\n"
     ]
    },
    {
     "data": {
      "text/plain": [
       "'Subramani'"
      ]
     },
     "execution_count": 14,
     "metadata": {},
     "output_type": "execute_result"
    }
   ],
   "source": [
    "## Example of a dictionary\n",
    "person = {\"name\": \"Subramani\", \"age\":22, \"city\": \"Bengaluru\"}\n",
    "print(person)\n",
    "print(type(person))\n",
    "person['name']"
   ]
  },
  {
   "cell_type": "markdown",
   "id": "30501366-b1b0-42d6-834b-826f4ad7121e",
   "metadata": {},
   "source": [
    "#### Q6.Can we create a nested dictionary? If so, please give an example by creating a simple one-level nested dictionary."
   ]
  },
  {
   "cell_type": "markdown",
   "id": "883fca88-9b16-432e-a328-4d4c9b52ab19",
   "metadata": {},
   "source": [
    "* Yes, we can create a nested dictionary in Python. A nested dictionary is a dictionary within a dictionary where the values are also dictionaries. Here's an example of a simple one-level nested dictionary"
   ]
  },
  {
   "cell_type": "code",
   "execution_count": 25,
   "id": "d73e9554-e5f6-4390-9224-f3c34d6fad5d",
   "metadata": {},
   "outputs": [
    {
     "name": "stdout",
     "output_type": "stream",
     "text": [
      "{'subbu': {'age': 22, 'department': 'data', 'salary': 50000}, 'giri': {'age': 25, 'department': 'Driving', 'salary': 24000}, 'raju': {'age': 23, 'department': 'IT', 'sales': 60000}}\n"
     ]
    },
    {
     "data": {
      "text/plain": [
       "{'age': 25, 'department': 'Driving', 'salary': 24000}"
      ]
     },
     "execution_count": 25,
     "metadata": {},
     "output_type": "execute_result"
    }
   ],
   "source": [
    "## Example of a nested dictionary\n",
    "employee = {\n",
    "    \"subbu\": {\"age\": 22, \"department\": \"data\", \"salary\": 50000},\n",
    "    \"giri\": {\"age\": 25, \"department\": \"Driving\", \"salary\": 24000},\n",
    "    \"raju\": {\"age\": 23, \"department\": \"IT\", \"sales\": 60000}\n",
    "}\n",
    "print(employee)\n",
    "employee['subbu']\n",
    "employee['giri']"
   ]
  },
  {
   "cell_type": "markdown",
   "id": "4a136974-cc06-4fd3-9902-072358b5ae1f",
   "metadata": {},
   "source": [
    "#### Q7.Using setdefault() method, create key named topics in the given dictionary and also add the value of the key as this list ['Python', 'Machine Learning’, 'Deep Learning']"
   ]
  },
  {
   "cell_type": "code",
   "execution_count": 29,
   "id": "5f95ee3a-b3bd-48db-9105-b248a70d682c",
   "metadata": {},
   "outputs": [
    {
     "name": "stdout",
     "output_type": "stream",
     "text": [
      "{'programming_language': 'Python', 'course': 'Data Science Masters', 'topics': ['Python', 'Machine Learning', 'Deep Learning']}\n"
     ]
    }
   ],
   "source": [
    "# Solution\n",
    "dict1 ={'programming_language': 'Python', 'course': 'Data Science Masters'}\n",
    "dict1.setdefault('topics', ['Python', 'Machine Learning', 'Deep Learning'])\n",
    "\n",
    "# Print the updated dictionary\n",
    "print(dict1)\n"
   ]
  },
  {
   "cell_type": "markdown",
   "id": "58d1d827-0a9b-4ccb-bb4e-742e91091304",
   "metadata": {},
   "source": [
    "#### Q8.What are the three view objects in dictionaries? Use the three in-built methods in python to display these three view objects for the given dictionary. \n",
    "    dict1 = {'Sport': 'Cricket' , 'Teams': ['India', 'Australia', 'England', 'South Africa', 'Sri Lanka', 'New Zealand']}"
   ]
  },
  {
   "cell_type": "markdown",
   "id": "d03e4eea-5864-4607-8fed-51ba33462157",
   "metadata": {},
   "source": [
    "#### In Python, there are three view objects that can be used to get a view of the keys, values, or items (key-value pairs) in a dictionary:\n",
    "* dict.keys(): This method returns a view object that contains the keys of the dictionary.\n",
    "* dict.values(): This method returns a view object that contains the values of the dictionary.\n",
    "* dict.items(): This method returns a view object that contains the key-value pairs of the dictionary as tuples."
   ]
  },
  {
   "cell_type": "code",
   "execution_count": null,
   "id": "e0f9bb30-838c-4b40-8b8c-c733f610a50f",
   "metadata": {},
   "outputs": [],
   "source": [
    "## Solution\n",
    "dict1 = {'Sport': 'Cricket' , 'Teams': ['India', 'Australia', 'England', 'South Africa', 'Sri Lanka', 'New Zealand']}\n",
    "keys_view = dict1.keys()\n",
    "values_view = dict1.values\n",
    "items_view = dict1.items()\n",
    "\n",
    "# Display the view objects\n",
    "print(f\"Keys view: {keys_view}\")\n",
    "print(f\"Values view: {values_view}\")\n",
    "print(f\"Items view: {items_view}\")\n"
   ]
  }
 ],
 "metadata": {
  "kernelspec": {
   "display_name": "Python 3 (ipykernel)",
   "language": "python",
   "name": "python3"
  },
  "language_info": {
   "codemirror_mode": {
    "name": "ipython",
    "version": 3
   },
   "file_extension": ".py",
   "mimetype": "text/x-python",
   "name": "python",
   "nbconvert_exporter": "python",
   "pygments_lexer": "ipython3",
   "version": "3.10.8"
  }
 },
 "nbformat": 4,
 "nbformat_minor": 5
}
