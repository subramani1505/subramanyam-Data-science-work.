{
 "cells": [
  {
   "cell_type": "markdown",
   "id": "d37f867c-c0f2-418c-9e92-b2e4cee71816",
   "metadata": {},
   "source": [
    "#### Q1.What is multithreading in python? why is it used? Name the module used to handle threads in python."
   ]
  },
  {
   "cell_type": "markdown",
   "id": "5ed00758-22bf-47ae-8449-267250753714",
   "metadata": {},
   "source": [
    "* Multithreading in Python refers to the ability of a program to execute multiple threads concurrently. A thread is a sequence of instructions that can be scheduled for execution independently of the main program. Multithreading allows different parts of a program to execute concurrently, enabling parallelism and potentially improving performance.\n",
    "* Python provides a built-in module called \"threading\" for handling threads. The threading module allows you to create and manage threads within your Python programs. It provides classes and functions to create, start, pause, resume, and terminate threads, as well as mechanisms for thread synchronization and communication.\n",
    "* To use the threading module in Python, we need to import it by including the following line at the beginning of our program:"
   ]
  },
  {
   "cell_type": "code",
   "execution_count": 2,
   "id": "36676929-266a-4786-a33b-991180b14610",
   "metadata": {},
   "outputs": [
    {
     "name": "stdout",
     "output_type": "stream",
     "text": [
      "Thread 1: 1\n",
      "Main Thread: 1\n",
      "Thread 1: 2\n",
      "Main Thread: 2\n",
      "Thread 1: 3\n",
      "Main Thread: 3\n",
      "Main Thread: 4\n",
      "Thread 1: 4\n",
      "Main Thread: 5\n",
      "Thread 1: 5\n",
      "Program execution completed.\n"
     ]
    }
   ],
   "source": [
    "## importing the threading module\n",
    "import threading\n",
    "\n",
    "##Here's a small example that demonstrates how to use the threading module in Python:\n",
    "import time\n",
    "# Defining a function that will be executed in a separate thread\n",
    "def print_numbers():\n",
    "    for i in range(1, 6):\n",
    "        print(f\"Thread 1: {i}\")\n",
    "        time.sleep(1)\n",
    "# Creating the new thread and assign the target function to it\n",
    "thread1 = threading.Thread(target=print_numbers)\n",
    "\n",
    "# Starting an thread\n",
    "thread1.start()\n",
    "\n",
    "# Continueing with the main program\n",
    "for i in range(1, 6):\n",
    "    print(f\"Main Thread: {i}\")\n",
    "    time.sleep(1)\n",
    "\n",
    "# Waiting for the thread to finish\n",
    "thread1.join()\n",
    "\n",
    "print(\"Program execution completed.\")        "
   ]
  },
  {
   "cell_type": "markdown",
   "id": "f258c0d2-d5f0-4c26-94bf-d7bf7c73d7dc",
   "metadata": {},
   "source": [
    "#### Q2.why threading module used? write the use of the following functions  \n",
    "1. activeCount()\n",
    "2. currentThread()\n",
    "3. enumerate()"
   ]
  },
  {
   "cell_type": "markdown",
   "id": "3275de59-60ea-4470-9719-9ac317693419",
   "metadata": {},
   "source": [
    "* The threading module in Python is used to handle threads and facilitate concurrent programming. It provides various functions and methods to create, manage, and control threads. \n",
    "* The threading module in Python is used to handle threads and facilitate concurrent programming. It provides various functions and methods to create, manage, and control threads. Here's the use of the functions above mentioned:\n",
    "\n",
    "1. activeCount(): This function returns the number of Thread objects currently alive. It is used to determine the total number of active threads in a program. This can be useful for monitoring the progress or status of threaded tasks.\n",
    "\n",
    "2. currentThread(): This function returns the currently executing Thread object. It allows you to obtain a reference to the thread from within the thread itself. You can use this function to access and manipulate properties of the current thread, such as its name or identification number.\n",
    "\n",
    "3. enumerate(): This function returns a list of all active Thread objects currently alive. It provides a way to iterate over all active threads and retrieve information about them. Each Thread object in the list can be accessed to gather details such as its name, identification number, and other attributes."
   ]
  },
  {
   "cell_type": "code",
   "execution_count": 3,
   "id": "cc34f8b2-1c41-42fa-a4c5-dccc88513263",
   "metadata": {},
   "outputs": [
    {
     "name": "stdout",
     "output_type": "stream",
     "text": [
      "Current Thread: <Thread(Thread-6 (print_thread_info), started 140420348614208)>\n",
      "Active Threads: 9\n",
      "Thread: <_MainThread(MainThread, started 140420704098112)>\n",
      "Thread: <Thread(IOPub, started daemon 140420633568832)>\n",
      "Thread: <Heartbeat(Heartbeat, started daemon 140420625176128)>\n",
      "Thread: <Thread(Thread-3 (_watch_pipe_fd), started daemon 140420390577728)>\n",
      "Thread: <Thread(Thread-4 (_watch_pipe_fd), started daemon 140420382185024)>\n",
      "Thread: <ControlThread(Control, started daemon 140420373792320)>\n",
      "Thread: <HistorySavingThread(IPythonHistorySavingThread, started 140420365399616)>\n",
      "Thread: <ParentPollerUnix(Thread-2, started daemon 140420357006912)>\n",
      "Thread: <Thread(Thread-6 (print_thread_info), started 140420348614208)>\n",
      "Current Thread: <Thread(Thread-7 (print_thread_info), started 140420348614208)>\n",
      "Active Threads: 9\n",
      "Thread: <_MainThread(MainThread, started 140420704098112)>\n",
      "Thread: <Thread(IOPub, started daemon 140420633568832)>\n",
      "Thread: <Heartbeat(Heartbeat, started daemon 140420625176128)>\n",
      "Thread: <Thread(Thread-3 (_watch_pipe_fd), started daemon 140420390577728)>\n",
      "Thread: <Thread(Thread-4 (_watch_pipe_fd), started daemon 140420382185024)>\n",
      "Thread: <ControlThread(Control, started daemon 140420373792320)>\n",
      "Thread: <HistorySavingThread(IPythonHistorySavingThread, started 140420365399616)>\n",
      "Thread: <ParentPollerUnix(Thread-2, started daemon 140420357006912)>\n",
      "Thread: <Thread(Thread-7 (print_thread_info), started 140420348614208)>\n",
      "Program execution completed.\n"
     ]
    },
    {
     "name": "stderr",
     "output_type": "stream",
     "text": [
      "/tmp/ipykernel_126/2617484179.py:6: DeprecationWarning: currentThread() is deprecated, use current_thread() instead\n",
      "  current_thread = threading.currentThread()\n",
      "/tmp/ipykernel_126/2617484179.py:10: DeprecationWarning: activeCount() is deprecated, use active_count() instead\n",
      "  active_count = threading.activeCount()\n"
     ]
    }
   ],
   "source": [
    "## here is an example for above functions\n",
    "import threading\n",
    "\n",
    "def print_thread_info():\n",
    "    # Getting the current thread\n",
    "    current_thread = threading.currentThread()\n",
    "    print(f\"Current Thread: {current_thread}\")\n",
    "\n",
    "    # Getting the number of active threads\n",
    "    active_count = threading.activeCount()\n",
    "    print(f\"Active Threads: {active_count}\")\n",
    "\n",
    "    # Enumerating and print information about all active threads\n",
    "    threads = threading.enumerate()\n",
    "    for thread in threads:\n",
    "        print(f\"Thread: {thread}\")\n",
    "\n",
    "# Creating multiple threads\n",
    "thread1 = threading.Thread(target=print_thread_info)\n",
    "thread2 = threading.Thread(target=print_thread_info)\n",
    "\n",
    "# Starting the threads\n",
    "thread1.start()\n",
    "thread2.start()\n",
    "\n",
    "# Waiting for the threads to finish\n",
    "thread1.join()\n",
    "thread2.join()\n",
    "\n",
    "print(\"Program execution completed.\")\n"
   ]
  },
  {
   "cell_type": "markdown",
   "id": "e98245d2-1e21-4cf4-86f2-6abe9bbe4d6a",
   "metadata": {},
   "source": [
    "#### Q3.Explain the following functions\n",
    "1. run()\n",
    "2. start()\n",
    "3. join()\n",
    "4. isAlive()"
   ]
  },
  {
   "cell_type": "markdown",
   "id": "0192e06b-3cad-4d67-bdcb-09369dcb5090",
   "metadata": {},
   "source": [
    "1. run(): This function is the entry point for the thread's activity. When a Thread object's start() method is called, it in turn calls the run() method internally. You can override the run() method in a subclass to define the specific behavior of the thread. By default, the run() method does nothing, so it needs to be overridden to provide custom functionality.\n",
    "\n",
    "2. start(): This method starts the execution of a thread. It initializes the thread, calls the run() method, and begins the thread's activity. When start() is called, a new operating system thread is created and the run() method is executed in that thread concurrently with the main thread. It is important to note that the run() method should not be called directly; always use start() to properly start a thread.\n",
    "\n",
    "3. join(): This method blocks the calling thread until the thread it is called on has completed its execution. When a thread calls join(), the calling thread is put into a waiting state until the target thread finishes. This is useful when you want to ensure that a thread completes its execution before the program continues further. By default, the join() method waits indefinitely for the thread to complete, but you can also specify a timeout parameter to limit the waiting time.\n",
    "\n",
    "4. isAlive(): This method returns a Boolean value indicating whether a thread is alive or not. It returns True if the thread has been started and has not yet terminated. Otherwise, it returns False. The isAlive() method allows you to check the status of a thread and determine if it is still running or has finished its execution."
   ]
  },
  {
   "cell_type": "code",
   "execution_count": 6,
   "id": "a197b7fc-a4fa-4ec7-b9f8-0da9d20706d6",
   "metadata": {},
   "outputs": [
    {
     "name": "stdout",
     "output_type": "stream",
     "text": [
      "Thread started\n",
      "Thread is alive: True\n",
      "Thread finished\n",
      "Thread is alive: False\n",
      "Program execution completed.\n"
     ]
    }
   ],
   "source": [
    "## exaple for above functions\n",
    "import threading\n",
    "import time\n",
    "\n",
    "def my_function():\n",
    "    print(\"Thread started\")\n",
    "    time.sleep(3)\n",
    "    print(\"Thread finished\")\n",
    "\n",
    "# Create a thread\n",
    "thread = threading.Thread(target=my_function)\n",
    "\n",
    "# Start the thread\n",
    "thread.start()\n",
    "\n",
    "# Check if the thread is alive\n",
    "print(\"Thread is alive:\", thread.is_alive())\n",
    "\n",
    "# Wait for the thread to finish\n",
    "thread.join()\n",
    "\n",
    "# Check if the thread is alive again\n",
    "print(\"Thread is alive:\", thread.is_alive())\n",
    "\n",
    "print(\"Program execution completed.\")\n"
   ]
  },
  {
   "cell_type": "markdown",
   "id": "a6a3930f-a393-4c07-bbd6-190f48b98cca",
   "metadata": {},
   "source": [
    "#### Q4.Write a python program to create two threads. Thread one must print the list of squares and thread two must print the list of cubes."
   ]
  },
  {
   "cell_type": "code",
   "execution_count": 7,
   "id": "859b316b-055c-474e-a18c-77f0f23ff21b",
   "metadata": {},
   "outputs": [
    {
     "name": "stdout",
     "output_type": "stream",
     "text": [
      "Square: 1\n",
      "Square: 4\n",
      "Square: 9\n",
      "Square: 16\n",
      "Square: 25\n",
      "Cube: 1\n",
      "Cube: 8\n",
      "Cube: 27\n",
      "Cube: 64\n",
      "Cube: 125\n",
      "Program execution completed.\n"
     ]
    }
   ],
   "source": [
    "## programme\n",
    "import threading\n",
    "\n",
    "def print_squares(numbers):\n",
    "    for num in numbers:\n",
    "        square = num ** 2\n",
    "        print(f\"Square: {square}\")\n",
    "\n",
    "def print_cubes(numbers):\n",
    "    for num in numbers:\n",
    "        cube = num ** 3\n",
    "        print(f\"Cube: {cube}\")\n",
    "\n",
    "# Create a list of numbers\n",
    "numbers = [1, 2, 3, 4, 5]\n",
    "\n",
    "# Create the first thread for printing squares\n",
    "thread1 = threading.Thread(target=print_squares, args=(numbers,))\n",
    "\n",
    "# Create the second thread for printing cubes\n",
    "thread2 = threading.Thread(target=print_cubes, args=(numbers,))\n",
    "\n",
    "# Start the threads\n",
    "thread1.start()\n",
    "thread2.start()\n",
    "\n",
    "# Wait for the threads to finish\n",
    "thread1.join()\n",
    "thread2.join()\n",
    "\n",
    "print(\"Program execution completed.\")\n"
   ]
  },
  {
   "cell_type": "markdown",
   "id": "9af8928a-30b8-4a2e-9017-4d4d4e0159f6",
   "metadata": {},
   "source": [
    "#### Q5.State advantages and disadvantages of multithreading"
   ]
  },
  {
   "cell_type": "markdown",
   "id": "42f11765-4f80-4ab2-b767-20172e5922f8",
   "metadata": {},
   "source": [
    "* Advantages of Multithreading:\n",
    "\n",
    "1. Increased Efficiency: Multithreading allows concurrent execution of multiple tasks, utilizing available CPU resources more efficiently. It enables parallelism, which can lead to improved performance and faster execution times.\n",
    "\n",
    "2. Responsiveness: Multithreading enhances the responsiveness of an application by keeping it interactive and avoiding delays. By executing time-consuming tasks in separate threads, the main thread remains responsive to user input and can handle other critical operations.\n",
    "\n",
    "3. Resource Sharing: Threads within a process share the same memory space, which allows for easy sharing of data and resources. This can be beneficial when multiple threads need access to the same data structures or resources, avoiding the need for complex inter-process communication mechanisms.\n",
    "\n",
    "4. Simplified Design: Multithreading can simplify the design and implementation of certain types of applications. For example, in GUI applications, the main thread can handle user interactions, while separate threads handle background tasks such as data processing or network communication.\n",
    "\n",
    "* Disadvantages of Multithreading:\n",
    "\n",
    "1. Complexity and Debugging: Multithreaded programs can be complex to design, implement, and debug. Issues such as race conditions, deadlocks, and synchronization problems can arise when multiple threads access shared resources simultaneously. Identifying and resolving such issues can be challenging and time-consuming.\n",
    "\n",
    "2. Increased Overhead: Multithreading introduces additional overhead due to thread creation, context switching, and synchronization mechanisms. This overhead can impact performance, especially if there are many threads or frequent context switches between them.\n",
    "\n",
    "3. Limited Scaling: While multithreading can improve performance on multi-core systems, it may not always scale linearly with the number of available cores. Some tasks may not be easily parallelizable or can suffer from contention when multiple threads try to access the same resources, limiting the potential performance gains.\n",
    "\n",
    "4. Difficulty in Reproducing Results: Multithreading can introduce non-deterministic behavior, making it challenging to reproduce specific results consistently. Concurrent execution and potential thread scheduling differences can lead to varying outcomes across different runs of the program."
   ]
  },
  {
   "cell_type": "markdown",
   "id": "482bda1e-f7d9-448b-91d4-9bc6607c4f13",
   "metadata": {},
   "source": [
    "#### Q6.Explain deadlocks and race conditions."
   ]
  },
  {
   "cell_type": "markdown",
   "id": "fee8d1f0-3ca1-4126-a1eb-3b6f316e6678",
   "metadata": {},
   "source": [
    "1. Deadlock:\n",
    "   Deadlock refers to a situation where two or more threads are blocked indefinitely, waiting for each other to release resources that they hold. In other words, each thread is waiting for a resource that is held by another thread, creating a circular dependency that cannot be resolved. As a result, the threads are unable to proceed, leading to a system deadlock.\n",
    "   \n",
    "* A deadlock typically occurs when the following four conditions are met:\n",
    "\n",
    "* Mutual Exclusion: The resources involved cannot be simultaneously used or shared by multiple threads.\n",
    "* Hold and Wait: A thread holding at least one resource is waiting to acquire additional resources held by other threads.\n",
    "* No Preemption: Resources cannot be forcibly taken away from threads; they must be released voluntarily.\n",
    "* Circular Wait: There exists a circular chain of two or more threads, where each thread is waiting for a resource held by the next thread in the chain.\n",
    "* Deadlocks can be challenging to detect and resolve, requiring careful analysis of resource allocation and thread synchronization. Techniques such as resource ordering, deadlock detection algorithms, and resource timeouts can be employed to prevent or recover from deadlocks.\n",
    "\n",
    "2. Race Condition:\n",
    "* A race condition occurs when the behavior of a program depends on the relative timing of operations in concurrent threads. It arises when multiple threads access and modify shared data concurrently, without proper synchronization or coordination. The outcome of the program becomes unpredictable and depends on the specific order in which the threads are scheduled to execute.\n",
    "* Race conditions often occur due to the interleaved execution of threads and can lead to incorrect results or unexpected program behavior. The exact outcome depends on the timing and execution order of the threads, making it difficult to reproduce and debug.\n",
    "\n",
    "* To avoid race conditions, proper synchronization mechanisms, such as locks, semaphores, or atomic operations, need to be used to ensure that shared resources are accessed safely and consistently. Synchronization ensures that only one thread can access or modify shared data at a time, preventing race conditions and maintaining data integrity.\n",
    "\n",
    "* Detecting and resolving race conditions typically involves careful analysis of the code, identifying critical sections, and applying appropriate synchronization techniques to ensure thread safety and prevent data races.\n",
    "\n",
    "* Both deadlocks and race conditions are common challenges in concurrent programming, and careful design, testing, and synchronization techniques are necessary to mitigate their occurrence and ensure correct and reliable multithreaded programs."
   ]
  },
  {
   "cell_type": "code",
   "execution_count": null,
   "id": "803d7d6d-fb9e-4f15-8caf-085aeda8190a",
   "metadata": {},
   "outputs": [],
   "source": []
  }
 ],
 "metadata": {
  "kernelspec": {
   "display_name": "Python 3 (ipykernel)",
   "language": "python",
   "name": "python3"
  },
  "language_info": {
   "codemirror_mode": {
    "name": "ipython",
    "version": 3
   },
   "file_extension": ".py",
   "mimetype": "text/x-python",
   "name": "python",
   "nbconvert_exporter": "python",
   "pygments_lexer": "ipython3",
   "version": "3.10.8"
  }
 },
 "nbformat": 4,
 "nbformat_minor": 5
}
