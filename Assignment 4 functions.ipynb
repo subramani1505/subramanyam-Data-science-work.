{
 "cells": [
  {
   "cell_type": "markdown",
   "id": "cf5cc6ad-6204-4c5d-90eb-6b565e3914b7",
   "metadata": {},
   "source": [
    "#### Q1.Which keyword is used to create a function? Create a function to return a list of odd numbers in the range of 1 to 25."
   ]
  },
  {
   "cell_type": "markdown",
   "id": "56c4c339-0917-452f-badd-74b7ce8ca33b",
   "metadata": {},
   "source": [
    "* The keyword used to create a function in Python is def. Here's an example of how to use def to create a function that returns a list of odd numbers in the range of 1 to 25."
   ]
  },
  {
   "cell_type": "code",
   "execution_count": 1,
   "id": "de10122e-6780-4b6a-b60d-e4f341caea63",
   "metadata": {},
   "outputs": [
    {
     "data": {
      "text/plain": [
       "[1, 3, 5, 7, 9, 11, 13, 15, 17, 19, 21, 23, 25]"
      ]
     },
     "execution_count": 1,
     "metadata": {},
     "output_type": "execute_result"
    }
   ],
   "source": [
    "## Solution\n",
    "def list_of_oddnos(n):\n",
    "    l=[]\n",
    "    for i in range(1,26):\n",
    "        if i%2!=0:\n",
    "            l.append(i)\n",
    "    return l\n",
    "list_of_oddnos(25)"
   ]
  },
  {
   "cell_type": "markdown",
   "id": "2788b96b-644b-4816-b5d3-0d517259e7f9",
   "metadata": {},
   "source": [
    "#### Q2. Why *args and **kwargs is used in some functions? Create a function each for *args and **kwargs to demonstrate their use."
   ]
  },
  {
   "cell_type": "markdown",
   "id": "3b58fb78-ba59-4827-97e4-aee7e4c4dc62",
   "metadata": {},
   "source": [
    "* *args and **kwargs are special syntax in Python that allows a function to accept an arbitrary number of positional arguments and keyword arguments, respectively. They are often used when you don't know in advance how many arguments the function needs to accept, or when you want to pass multiple arguments in a flexible way."
   ]
  },
  {
   "cell_type": "code",
   "execution_count": 6,
   "id": "2f7ed8a4-3f6b-4e81-8a87-8417739c960a",
   "metadata": {},
   "outputs": [
    {
     "name": "stdout",
     "output_type": "stream",
     "text": [
      "24\n",
      "50\n"
     ]
    }
   ],
   "source": [
    "## example for *args\n",
    "def multiply_numbers(*args):\n",
    "    x=1\n",
    "    for number in args:\n",
    "        x=x*number\n",
    "    return x\n",
    "print(multiply_numbers(2,3,4))\n",
    "print(multiply_numbers(5,10))"
   ]
  },
  {
   "cell_type": "code",
   "execution_count": 20,
   "id": "e3796b49-b39e-415a-b3ff-558428737a9d",
   "metadata": {},
   "outputs": [
    {
     "name": "stdout",
     "output_type": "stream",
     "text": [
      "subbu is 22 years old and lives in Bengaluru\n",
      "Missing information\n"
     ]
    }
   ],
   "source": [
    "## example for **kwargs\n",
    "def print_person_information(**kwargs):\n",
    "    name = kwargs.get('name')\n",
    "    age = kwargs.get('age')\n",
    "    city = kwargs.get('city')\n",
    "    if name and age and city:\n",
    "        print(f\"{name} is {age} years old and lives in {city}\")\n",
    "    else:\n",
    "        print(\"Missing information\")\n",
    "print_person_info(name=\"subbu\", age=22, city=\"Bengaluru\")\n",
    "print_person_info(name=\"mani\", city=\"kolar\")   "
   ]
  },
  {
   "cell_type": "markdown",
   "id": "dee0f9b6-956b-4daa-85d7-3765ea86211b",
   "metadata": {},
   "source": [
    "#### Q3. What is an iterator in python? Name the method used to initialise the iterator object and the method used for iteration. Use these methods to print the first five elements of the given list [2, 4, 6, 8, 10, 12, 14, 16,18, 20].    "
   ]
  },
  {
   "cell_type": "markdown",
   "id": "18a580f4-4833-4a0b-9bec-0c00532ae45d",
   "metadata": {},
   "source": [
    "* In Python, an iterator is an object that allows you to traverse a container, such as a list, tuple, or dictionary, and access each element of the container one by one. An iterator provides a way to loop through a collection of data and perform some action on each element.\n",
    "\n",
    "* The iter() method is used to initialize the iterator object, and the next() method is used for iteration."
   ]
  },
  {
   "cell_type": "code",
   "execution_count": 22,
   "id": "9af77c77-396f-46de-95de-acac9b0f90e6",
   "metadata": {},
   "outputs": [
    {
     "name": "stdout",
     "output_type": "stream",
     "text": [
      "2\n",
      "4\n",
      "6\n",
      "8\n",
      "10\n"
     ]
    }
   ],
   "source": [
    "## solution\n",
    "list1=[2,4,6,8,10,12,14,16,18,20]\n",
    "ite=iter(list1)\n",
    "for i in range(5):\n",
    "    print(next(ite))\n"
   ]
  },
  {
   "cell_type": "markdown",
   "id": "79aec606-5e9f-4a7c-8890-250cd6911674",
   "metadata": {},
   "source": [
    "#### Q4. What is a generator function in python? Why yield keyword is used? Give an example of a generator function.\n"
   ]
  },
  {
   "cell_type": "markdown",
   "id": "e3b69a76-ebc5-4839-bd2e-536c9b676d48",
   "metadata": {},
   "source": [
    "* In Python, a generator function is a special type of function that generates an iterator object that can be used to iterate over a sequence of values.\n",
    "* A generator function is defined using the yield keyword instead of the return keyword. When the generator function is called, it returns an iterator object that can be used to generate a sequence of values, one at a time, as the iterator is iterated over.\n",
    "* The yield keyword is used to return a value from the generator function and to pause the function's execution until the next value is requested. This allows the generator function to generate a sequence of values on the fly, without having to generate them all at once and store them in memory."
   ]
  },
  {
   "cell_type": "code",
   "execution_count": 6,
   "id": "a34ed411-30c3-4782-a8cd-107e3c0802fa",
   "metadata": {},
   "outputs": [],
   "source": [
    "## Example of a generator function \n",
    "## fibonacci sequence\n",
    "def test_fib(n):\n",
    "    a,b=0,1\n",
    "    for i in range(n):\n",
    "        yield a\n",
    "        a,b=b,a+b\n"
   ]
  },
  {
   "cell_type": "code",
   "execution_count": 10,
   "id": "fbddad40-9c49-48b7-8991-efa2038e4edc",
   "metadata": {},
   "outputs": [
    {
     "name": "stdout",
     "output_type": "stream",
     "text": [
      "0\n",
      "1\n",
      "1\n",
      "2\n",
      "3\n",
      "5\n",
      "8\n",
      "13\n",
      "21\n",
      "34\n"
     ]
    }
   ],
   "source": [
    "for i in (test_fib(10)):\n",
    "    print(i)"
   ]
  },
  {
   "cell_type": "markdown",
   "id": "342a1788-e83b-4499-9f62-7b974e90bd6b",
   "metadata": {},
   "source": [
    "#### Q5.Create a generator function for prime numbers less than 1000. Use the next() method to print the first 20 prime numbers."
   ]
  },
  {
   "cell_type": "code",
   "execution_count": 14,
   "id": "8fee4f8a-5650-44f5-9e06-dc515e14b68e",
   "metadata": {},
   "outputs": [],
   "source": [
    "## generator function in python that generates prime number less than 1000\n",
    "def prime_numbers():\n",
    "    num=2\n",
    "    while num<1000:\n",
    "        for i in range(2,num):\n",
    "            if num%i==0:\n",
    "                break\n",
    "        else:\n",
    "            yield num\n",
    "        num=num+1\n"
   ]
  },
  {
   "cell_type": "code",
   "execution_count": 15,
   "id": "91c27602-413e-4c69-ac54-3a2d8fc94e13",
   "metadata": {},
   "outputs": [
    {
     "name": "stdout",
     "output_type": "stream",
     "text": [
      "2\n",
      "3\n",
      "5\n",
      "7\n",
      "11\n",
      "13\n",
      "17\n",
      "19\n",
      "23\n",
      "29\n",
      "31\n",
      "37\n",
      "41\n",
      "43\n",
      "47\n",
      "53\n",
      "59\n",
      "61\n",
      "67\n",
      "71\n"
     ]
    }
   ],
   "source": [
    "\n",
    "prime_generator=prime_numbers()\n",
    "for i in range(20):\n",
    "    print(next(prime_generator))\n"
   ]
  }
 ],
 "metadata": {
  "kernelspec": {
   "display_name": "Python 3 (ipykernel)",
   "language": "python",
   "name": "python3"
  },
  "language_info": {
   "codemirror_mode": {
    "name": "ipython",
    "version": 3
   },
   "file_extension": ".py",
   "mimetype": "text/x-python",
   "name": "python",
   "nbconvert_exporter": "python",
   "pygments_lexer": "ipython3",
   "version": "3.10.8"
  }
 },
 "nbformat": 4,
 "nbformat_minor": 5
}
