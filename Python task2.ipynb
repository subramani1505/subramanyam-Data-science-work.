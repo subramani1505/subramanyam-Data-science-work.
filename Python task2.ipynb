{
 "cells": [
  {
   "cell_type": "markdown",
   "id": "67c54e44-4123-4d73-9c8e-ea4de671465e",
   "metadata": {},
   "source": [
    "#### Q1.You are writing code for a company. The requirement of the company is that you create a python function that will check whether the password entered by the user is correct or not. The function should take the password as input and return the string “Valid Password” if the entered password follows the below-given password guidelines else it should return “Invalid Password”.\n",
    "* Note: \n",
    "1. The Password should contain at least two uppercase letters and at least two lowercase letters. \n",
    "2. The Password should contain at least a number and three special characters. \n",
    "3. The length of the password should be 10 characters long."
   ]
  },
  {
   "cell_type": "code",
   "execution_count": 1,
   "id": "40be8068-b403-4a3a-9ce7-ff1a80356928",
   "metadata": {},
   "outputs": [],
   "source": [
    "## Solution  \n",
    "## Creating the python function for checking the password\n",
    "## to create a python code for checking the password\n",
    "def checking_password(password):\n",
    "    if len(password)!=10:\n",
    "        return \"invalid password\"\n",
    "    uppercase_count=0\n",
    "    lowercase_count=0\n",
    "    for char in password:\n",
    "        if char.isupper():\n",
    "            uppercase_count+=1\n",
    "        elif char.islower():\n",
    "            lowercase_count+=1\n",
    "    if uppercase_count<2 or lowercase_count<2:\n",
    "        return \"Invalid Password\"\n",
    "    \n",
    "    digit_count=0\n",
    "    special_count=0\n",
    "    for char in password:\n",
    "        if char.isdigit():\n",
    "            digit_count+=1\n",
    "        elif char in \"!@#$%^&*()_+={}[];:'\\/,.<>\":\n",
    "            special_count+=1\n",
    "    if digit_count<1 or special_count<3:\n",
    "        return \"Invalid password\"\n",
    "    \n",
    "    return \"valid password\"\n",
    "    "
   ]
  },
  {
   "cell_type": "code",
   "execution_count": 2,
   "id": "37111ace-19ae-422c-a8dd-dd76c1b95879",
   "metadata": {},
   "outputs": [
    {
     "data": {
      "text/plain": [
       "'invalid password'"
      ]
     },
     "execution_count": 2,
     "metadata": {},
     "output_type": "execute_result"
    }
   ],
   "source": [
    "checking_password('Subbu@123')"
   ]
  },
  {
   "cell_type": "code",
   "execution_count": 3,
   "id": "f38a5bcf-72a9-4935-9e64-c8d8f573bda3",
   "metadata": {},
   "outputs": [
    {
     "data": {
      "text/plain": [
       "'valid password'"
      ]
     },
     "execution_count": 3,
     "metadata": {},
     "output_type": "execute_result"
    }
   ],
   "source": [
    "checking_password('SUbb123@!$')"
   ]
  },
  {
   "cell_type": "markdown",
   "id": "ef3ebd16-a10b-45ab-9384-b774b08aa623",
   "metadata": {},
   "source": [
    "#### Q2.Solve the below-given questions using at least one of the following:\n",
    "1. Lambda function\n",
    "2. Filter function\n",
    "3. Zap function\n",
    "4. List Comprehension\n",
    "* Check if the string starts with a particular letter\n",
    "* Check if the string is numeric\n",
    "* Sort a list of tuples having fruit names and their quantity. [(\"mango\",99),(\"orange\",80), (\"grapes\", 1000)]\n",
    "* Find the squares of numbers from 1 to 10\n",
    "* Find the cube root of numbers from 1 to 10\n",
    "* Check if a given number is even\n",
    "* Filter odd numbers from the given list.\n",
    "[1,2,3,4,5,6,7,8,9,10]\n",
    "* Sort a list of integers into positive and negative integers lists.\n",
    "[1,2,3,4,5,6,-1,-2,-3,-4,-5,0]"
   ]
  },
  {
   "cell_type": "code",
   "execution_count": 4,
   "id": "d94e3d30-1c19-4070-8f79-d9903651619f",
   "metadata": {},
   "outputs": [
    {
     "name": "stdout",
     "output_type": "stream",
     "text": [
      "True\n",
      "True\n",
      "False\n"
     ]
    }
   ],
   "source": [
    "## Solution.Check if the string starts with a particular letter\n",
    "\n",
    "starts_with_letter = lambda string, letter: string[0] == letter\n",
    "string1 = \"Hello world\"\n",
    "string2 = \"Python is awesome\"\n",
    "letter = \"P\"\n",
    "\n",
    "print(starts_with_letter(string1, \"H\")) \n",
    "print(starts_with_letter(string2, letter))  \n",
    "print(starts_with_letter(string1, letter))  \n"
   ]
  },
  {
   "cell_type": "code",
   "execution_count": 5,
   "id": "df49c933-34c7-43ab-9266-00f0d3e1a697",
   "metadata": {},
   "outputs": [
    {
     "name": "stdout",
     "output_type": "stream",
     "text": [
      "True\n",
      "False\n",
      "False\n",
      "False\n"
     ]
    }
   ],
   "source": [
    "## Check if the string is numeric\n",
    "\n",
    "is_numeric = lambda string: string.isnumeric()\n",
    "string1 = \"123\"\n",
    "string2 = \"3.14\"\n",
    "string3 = \"-42\"\n",
    "string4 = \"hello\"\n",
    "\n",
    "print(is_numeric(string1))  \n",
    "print(is_numeric(string2))  \n",
    "print(is_numeric(string3))  \n",
    "print(is_numeric(string4))  \n"
   ]
  },
  {
   "cell_type": "code",
   "execution_count": 6,
   "id": "601e798d-0b68-4e71-b659-42eb15f38995",
   "metadata": {},
   "outputs": [
    {
     "name": "stdout",
     "output_type": "stream",
     "text": [
      "[('orange', 80), ('mango', 99), ('grapes', 1000)]\n"
     ]
    }
   ],
   "source": [
    "## Sort a list of tuples having fruit names and their quantity. [(\"mango\",99),(\"orange\",80), (\"grapes\", 1000)]\n",
    "fruits = [(\"mango\", 99), (\"orange\", 80), (\"grapes\", 1000)]\n",
    "sorted_fruits = sorted(fruits, key=lambda x: x[1])\n",
    "print(sorted_fruits)\n"
   ]
  },
  {
   "cell_type": "code",
   "execution_count": 7,
   "id": "f4db217d-8e10-4e0f-9ae8-9a4f1d7d53be",
   "metadata": {},
   "outputs": [
    {
     "name": "stdout",
     "output_type": "stream",
     "text": [
      "[1, 4, 9, 16, 25, 36, 49, 64, 81, 100]\n"
     ]
    }
   ],
   "source": [
    "## Find the squares of numbers from 1 to 10\n",
    "squares = list(map(lambda x: x**2, range(1, 11)))\n",
    "print(squares)\n"
   ]
  },
  {
   "cell_type": "code",
   "execution_count": 1,
   "id": "8c0a1ba7-b0eb-4bb0-803c-c8daab9b98f1",
   "metadata": {},
   "outputs": [
    {
     "name": "stdout",
     "output_type": "stream",
     "text": [
      "[1.0, 1.2599210498948732, 1.4422495703074083, 1.5874010519681994, 1.7099759466766968, 1.8171205928321397, 1.912931182772389, 2.0, 2.080083823051904, 2.154434690031884]\n"
     ]
    }
   ],
   "source": [
    "## Find the cube root of numbers from 1 to 10\n",
    "import math\n",
    "cube_roots = list(map(lambda x: math.pow(x, 1/3), range(1, 11)))\n",
    "print(cube_roots)\n"
   ]
  },
  {
   "cell_type": "code",
   "execution_count": 2,
   "id": "46c2af4d-73ed-4744-b3cb-822726d17cb4",
   "metadata": {},
   "outputs": [
    {
     "name": "stdout",
     "output_type": "stream",
     "text": [
      "True\n",
      "False\n"
     ]
    }
   ],
   "source": [
    "### Check if a given number is even\n",
    "is_even = lambda x: x % 2 == 0\n",
    "print(is_even(4)) \n",
    "print(is_even(7)) \n"
   ]
  },
  {
   "cell_type": "code",
   "execution_count": 3,
   "id": "d3d153da-c31a-4f29-9082-91d841eb7158",
   "metadata": {},
   "outputs": [
    {
     "name": "stdout",
     "output_type": "stream",
     "text": [
      "[1, 3, 5, 7, 9]\n"
     ]
    }
   ],
   "source": [
    "## Filter odd numbers from the given list. [1,2,3,4,5,6,7,8,9,10]\n",
    "numbers = [1, 2, 3, 4, 5, 6, 7, 8, 9, 10]\n",
    "odd_numbers = list(filter(lambda x: x % 2 != 0, numbers))\n",
    "\n",
    "print(odd_numbers)\n"
   ]
  },
  {
   "cell_type": "code",
   "execution_count": 4,
   "id": "97d5f029-3166-49d5-b9e7-f1df1805d757",
   "metadata": {},
   "outputs": [
    {
     "name": "stdout",
     "output_type": "stream",
     "text": [
      "Positive numbers:  [1, 2, 3, 4, 5, 6]\n",
      "Negative numbers:  [-1, -2, -3, -4, -5]\n"
     ]
    }
   ],
   "source": [
    "## Sort a list of integers into positive and negative integers lists. [1,2,3,4,5,6,-1,-2,-3,-4,-5,0]\n",
    "numbers = [1, 2, 3, 4, 5, 6, -1, -2, -3, -4, -5, 0]\n",
    "positive_numbers = []\n",
    "negative_numbers = []\n",
    "\n",
    "for num in numbers:\n",
    "    if num > 0:\n",
    "        positive_numbers.append(num)\n",
    "    elif num < 0:\n",
    "        negative_numbers.append(num)\n",
    "\n",
    "print(\"Positive numbers: \", positive_numbers)\n",
    "print(\"Negative numbers: \", negative_numbers)\n"
   ]
  }
 ],
 "metadata": {
  "kernelspec": {
   "display_name": "Python 3 (ipykernel)",
   "language": "python",
   "name": "python3"
  },
  "language_info": {
   "codemirror_mode": {
    "name": "ipython",
    "version": 3
   },
   "file_extension": ".py",
   "mimetype": "text/x-python",
   "name": "python",
   "nbconvert_exporter": "python",
   "pygments_lexer": "ipython3",
   "version": "3.10.8"
  }
 },
 "nbformat": 4,
 "nbformat_minor": 5
}
