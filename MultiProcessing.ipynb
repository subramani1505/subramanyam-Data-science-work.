{
 "cells": [
  {
   "cell_type": "markdown",
   "id": "a8fa1d7b-b4e5-4653-9e93-22476cce89cc",
   "metadata": {},
   "source": [
    "#### Q1. What is multiprocessing in python? Why is it useful?"
   ]
  },
  {
   "cell_type": "markdown",
   "id": "389eba15-f2e5-4786-a370-cc38f7518143",
   "metadata": {},
   "source": [
    "* Multiprocessing in Python refers to the capability of the Python programming language to execute multiple processes concurrently, allowing for parallelism. It is a technique used to distribute computational tasks across multiple CPU cores or even across multiple machines.\n",
    "\n",
    "* Python's multiprocessing module provides a way to create and manage processes, which are independent units of execution that can run concurrently. Each process has its own memory space and runs in a separate system process, enabling true parallel execution.\n",
    "\n",
    "* There are several reasons why multiprocessing is useful:\n",
    "\n",
    "1. Improved performance: By leveraging multiple CPU cores, multiprocessing can significantly enhance the performance of computationally intensive tasks. It allows the execution of multiple tasks simultaneously, thereby reducing the overall execution time.\n",
    "\n",
    "2. Utilizing multiple cores: With the proliferation of multi-core processors, multiprocessing enables developers to fully utilize the available CPU resources. It enables efficient utilization of all cores, leading to faster execution and better resource management.\n",
    "\n",
    "3. Parallel processing: Multiprocessing allows for true parallelism by distributing tasks across multiple processes. This is particularly beneficial for tasks that can be divided into smaller independent subtasks, as each process can work on a different subset of the problem, potentially accelerating the overall execution.\n",
    "\n",
    "4. Improved responsiveness: By offloading computationally intensive tasks to separate processes, the main program remains responsive. This is especially important for applications that require real-time interactions or need to handle multiple tasks simultaneously without blocking the main thread.\n",
    "\n",
    "5. Fault tolerance: With multiprocessing, if one process encounters an error or crashes, it does not affect the other processes. This fault tolerance ensures that the overall execution continues without disruption, enhancing the robustness of the application."
   ]
  },
  {
   "cell_type": "markdown",
   "id": "e10a4984-8ffb-4988-ac8f-34cdc9c6509a",
   "metadata": {},
   "source": [
    "#### Q2. What are the differences between multiprocessing and multithreading?"
   ]
  },
  {
   "cell_type": "markdown",
   "id": "b8611849-4fc6-4c38-8ac1-7b59f572dd7d",
   "metadata": {},
   "source": [
    "* Multiprocessing and multithreading are both techniques used for concurrent execution in programming, but they differ in their approach and characteristics. Here are the key differences between multiprocessing and multithreading:\n",
    "\n",
    "1. Parallelism: Multiprocessing enables true parallelism by executing multiple processes concurrently, each with its own memory space and independent execution. Each process runs in a separate system process, utilizing multiple CPU cores simultaneously. On the other hand, multithreading achieves concurrency by creating multiple threads within a single process, which share the same memory space and can execute concurrently. However, due to the Global Interpreter Lock (GIL) in CPython, multithreading may not achieve true parallelism as only one thread can execute Python bytecode at a time.\n",
    "\n",
    "2. Memory and state: In multiprocessing, each process has its own memory space, which means that variables and data are not shared by default. Communication between processes typically requires explicit mechanisms like inter-process communication (IPC), such as pipes, queues, or shared memory. In multithreading, threads share the same memory space, allowing them to access and modify shared data without explicit communication mechanisms. However, this shared memory can also introduce synchronization challenges and the need for thread-safe programming practices.\n",
    "\n",
    "3. Resource consumption: Multiprocessing generally consumes more system resources compared to multithreading. Each process in multiprocessing requires its own memory space, system process, and associated overhead. Multithreading, on the other hand, shares resources within a single process, resulting in lower resource consumption.\n",
    "\n",
    "4. Robustness and fault tolerance: In multiprocessing, if one process encounters an error or crashes, it does not affect the other processes. This fault tolerance ensures that the overall execution continues without disruption. In multithreading, an error or exception in one thread can potentially affect the entire process, leading to crashes or unexpected behavior. Synchronization and thread safety measures need to be in place to handle shared data correctly.\n",
    "\n",
    "5. I/O-bound vs. CPU-bound tasks: Multiprocessing is particularly suitable for CPU-bound tasks, where the focus is on utilizing multiple CPU cores to perform computations in parallel. It is effective when tasks can be divided into independent subtasks. Multithreading, on the other hand, is more suitable for I/O-bound tasks, such as network communication or disk operations, where threads can wait for I/O operations to complete without blocking the main thread."
   ]
  },
  {
   "cell_type": "markdown",
   "id": "93f582e3-5898-4caa-9625-dd909c27018d",
   "metadata": {},
   "source": [
    "#### Q3.Write a python code to create a process using the multiprocessing module."
   ]
  },
  {
   "cell_type": "code",
   "execution_count": 2,
   "id": "c13bd180-46db-4951-8724-f788d5b30743",
   "metadata": {},
   "outputs": [
    {
     "name": "stdout",
     "output_type": "stream",
     "text": [
      "Hello, subbu!\n",
      "Process completed.\n"
     ]
    }
   ],
   "source": [
    "import multiprocessing\n",
    "\n",
    "def process_function(name):\n",
    "    \"\"\"Function to be executed in the process\"\"\"\n",
    "    print(f\"Hello, {name}!\")\n",
    "\n",
    "if __name__ == '__main__':\n",
    "    # Create a Process object with target function and arguments\n",
    "    process = multiprocessing.Process(target=process_function, args=('subbu',))\n",
    "\n",
    "    # Start the process\n",
    "    process.start()\n",
    "\n",
    "    # Wait for the process to complete\n",
    "    process.join()\n",
    "\n",
    "    print(\"Process completed.\")\n"
   ]
  },
  {
   "cell_type": "markdown",
   "id": "25743e04-6f45-46ac-86f0-556a2da8aa2e",
   "metadata": {},
   "source": [
    "#### Q4. What is a multiprocessing pool in python? Why is it used?"
   ]
  },
  {
   "cell_type": "markdown",
   "id": "879bd583-3425-47dc-ae7b-e2ad5a716aae",
   "metadata": {},
   "source": [
    "* In Python, a multiprocessing pool is a feature provided by the multiprocessing module that allows for the creation of a pool of worker processes. The pool manages a collection of worker processes and provides an interface for distributing tasks among them.\n",
    "\n",
    "* The multiprocessing pool is used to parallelize the execution of a function across multiple input values. It allows you to easily divide the workload and distribute it among a specified number of worker processes, which can run in parallel on different CPU cores."
   ]
  },
  {
   "cell_type": "code",
   "execution_count": 3,
   "id": "fa1dc40a-0278-4ac8-8363-ee02466baac2",
   "metadata": {},
   "outputs": [
    {
     "name": "stdout",
     "output_type": "stream",
     "text": [
      "Results: [1, 4, 9, 16, 25]\n"
     ]
    }
   ],
   "source": [
    "## example that demonstrates the usage of a multiprocessing pool\n",
    "import multiprocessing\n",
    "\n",
    "def process_function(number):\n",
    "    \"\"\"Function to be executed by worker processes\"\"\"\n",
    "    return number ** 2\n",
    "\n",
    "if __name__ == '__main__':\n",
    "    # Create a multiprocessing pool with 4 worker processes\n",
    "    pool = multiprocessing.Pool(processes=4)\n",
    "\n",
    "    # Define the input values\n",
    "    numbers = [1, 2, 3, 4, 5]\n",
    "\n",
    "    # Apply the process function to the input values using the pool\n",
    "    results = pool.map(process_function, numbers)\n",
    "\n",
    "    # Close the pool to prevent further tasks from being submitted\n",
    "    pool.close()\n",
    "\n",
    "    # Wait for all worker processes to complete\n",
    "    pool.join()\n",
    "\n",
    "    print(\"Results:\", results)\n"
   ]
  },
  {
   "cell_type": "markdown",
   "id": "e6ed3f50-16aa-4601-afe9-1f502f79e0b5",
   "metadata": {},
   "source": [
    "* Using a multiprocessing pool can significantly speed up the execution of tasks that can be parallelized. It allows you to leverage the power of multiple CPU cores and distribute the workload efficiently among worker processes. The pool abstracts the management of processes and provides a convenient interface to parallelize computations, making it easier to achieve parallelism in your Python programs."
   ]
  },
  {
   "cell_type": "markdown",
   "id": "b90b896a-7b61-4cc1-b83a-d100aaff5031",
   "metadata": {},
   "source": [
    "#### Q5.How can we create a pool of worker processes in python using the multiprocessing module?"
   ]
  },
  {
   "cell_type": "markdown",
   "id": "3fda5c06-cd3d-4751-9fdd-f40142a500b4",
   "metadata": {},
   "source": [
    "* To create a pool of worker processes in Python using the multiprocessing module, you can utilize the multiprocessing.Pool class. This class provides a convenient way to manage a pool of worker processes and distribute tasks among them. "
   ]
  },
  {
   "cell_type": "code",
   "execution_count": 4,
   "id": "d9e81f84-532d-4af3-bfe3-cfc03ce07795",
   "metadata": {},
   "outputs": [
    {
     "name": "stdout",
     "output_type": "stream",
     "text": [
      "Results: [1, 4, 9, 16, 25]\n"
     ]
    }
   ],
   "source": [
    "## here is an example\n",
    "import multiprocessing\n",
    "\n",
    "def worker_function(task):\n",
    "    \"\"\"Function to be executed by worker processes\"\"\"\n",
    "    result = task ** 2\n",
    "    return result\n",
    "\n",
    "if __name__ == '__main__':\n",
    "    # Create a multiprocessing pool with 4 worker processes\n",
    "    pool = multiprocessing.Pool(processes=4)\n",
    "\n",
    "    # Define the tasks to be processed\n",
    "    tasks = [1, 2, 3, 4, 5]\n",
    "\n",
    "    # Apply the worker function to the tasks using the pool\n",
    "    results = pool.map(worker_function, tasks)\n",
    "\n",
    "    # Close the pool to prevent further tasks from being submitted\n",
    "    pool.close()\n",
    "\n",
    "    # Wait for all worker processes to complete\n",
    "    pool.join()\n",
    "\n",
    "    print(\"Results:\", results)\n"
   ]
  },
  {
   "cell_type": "markdown",
   "id": "ecb1f797-c0dc-4e81-ad46-f6a38edff96a",
   "metadata": {},
   "source": [
    "* By creating a pool of worker processes, you can easily parallelize the execution of tasks and leverage the available CPU resources to speed up computation. The pool abstracts the management of processes and provides a simple interface to distribute tasks among the workers, making it more convenient to implement parallel processing in your Python code."
   ]
  },
  {
   "cell_type": "markdown",
   "id": "29eee54a-f635-4902-86ba-8ec0c2f7c8cd",
   "metadata": {},
   "source": [
    "#### Q6. Write a python program to create 4 processes, each process should print a different number using the multiprocessing module in python."
   ]
  },
  {
   "cell_type": "code",
   "execution_count": 5,
   "id": "b693f0e7-74ee-45fb-af1d-b31750429928",
   "metadata": {},
   "outputs": [
    {
     "name": "stdout",
     "output_type": "stream",
     "text": [
      "Process ID: Process-11, Number: 0\n",
      "Process ID: Process-12, Number: 1\n",
      "Process ID: Process-13, Number: 2\n",
      "Process ID: Process-14, Number: 3\n",
      "All processes completed.\n"
     ]
    }
   ],
   "source": [
    "## here is an code to execute the 4 processes \n",
    "import multiprocessing\n",
    "\n",
    "def print_number(number):\n",
    "    \"\"\"Function to be executed in the process\"\"\"\n",
    "    print(f\"Process ID: {multiprocessing.current_process().name}, Number: {number}\")\n",
    "\n",
    "if __name__ == '__main__':\n",
    "    # Create 4 processes\n",
    "    processes = []\n",
    "    for i in range(4):\n",
    "        process = multiprocessing.Process(target=print_number, args=(i,))\n",
    "        processes.append(process)\n",
    "        process.start()\n",
    "\n",
    "    # Wait for all processes to complete\n",
    "    for process in processes:\n",
    "        process.join()\n",
    "\n",
    "    print(\"All processes completed.\")\n"
   ]
  },
  {
   "cell_type": "code",
   "execution_count": null,
   "id": "536f03fe-e585-4843-aa21-d6f34c716a75",
   "metadata": {},
   "outputs": [],
   "source": []
  }
 ],
 "metadata": {
  "kernelspec": {
   "display_name": "Python 3 (ipykernel)",
   "language": "python",
   "name": "python3"
  },
  "language_info": {
   "codemirror_mode": {
    "name": "ipython",
    "version": 3
   },
   "file_extension": ".py",
   "mimetype": "text/x-python",
   "name": "python",
   "nbconvert_exporter": "python",
   "pygments_lexer": "ipython3",
   "version": "3.10.8"
  }
 },
 "nbformat": 4,
 "nbformat_minor": 5
}
