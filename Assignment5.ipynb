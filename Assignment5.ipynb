{
 "cells": [
  {
   "cell_type": "markdown",
   "id": "c6ac8fb4-3c7c-49d6-beea-6f0ecb24ac43",
   "metadata": {},
   "source": [
    "#### Q1.Q1. Create a python program to sort the given list of tuples based on integer value using a lambda function.\n",
    "[('Sachin Tendulkar', 34357), ('Ricky Ponting', 27483), ('Jack Kallis', 25534), ('Virat Kohli', 24936)]"
   ]
  },
  {
   "cell_type": "code",
   "execution_count": 1,
   "id": "fc7ccb64-3515-452c-a15f-b018f83729bf",
   "metadata": {},
   "outputs": [
    {
     "name": "stdout",
     "output_type": "stream",
     "text": [
      "[('sachin tendulkar', 34357), ('Ricky pointing', 27483), ('jack kallis', 25534), ('virat kohli', 24936)]\n"
     ]
    }
   ],
   "source": [
    "## solution\n",
    "players=[('sachin tendulkar',34357),('Ricky pointing',27483),('jack kallis',25534),('virat kohli',24936)]\n",
    "players_sorted= sorted(players,key =lambda x:x[1],reverse=True)\n",
    "print(players_sorted)"
   ]
  },
  {
   "cell_type": "code",
   "execution_count": 4,
   "id": "744d20a0-72ba-41bd-aa67-9e9f3e324dde",
   "metadata": {},
   "outputs": [
    {
     "name": "stdout",
     "output_type": "stream",
     "text": [
      "[('virat kohli', 24936), ('jack kallis', 25534), ('Ricky pointing', 27483), ('sachin tendulkar', 34357)]\n"
     ]
    }
   ],
   "source": [
    "## solution\n",
    "players=[('sachin tendulkar',34357),('Ricky pointing',27483),('jack kallis',25534),('virat kohli',24936)]\n",
    "players_sorted= sorted(players,key =lambda x:x[1])\n",
    "print(players_sorted)"
   ]
  },
  {
   "cell_type": "markdown",
   "id": "90c76493-ed0f-44d8-ab4e-9e6946234dff",
   "metadata": {},
   "source": [
    "#### Q2.Write a Python Program to find the squares of all the numbers in the given list of integers using lambda and map functions.\n",
    "[1, 2, 3, 4, 5, 6, 7, 8, 9, 10]"
   ]
  },
  {
   "cell_type": "code",
   "execution_count": 9,
   "id": "de2927cb-986f-4352-8423-dbd2e31d6cee",
   "metadata": {},
   "outputs": [
    {
     "name": "stdout",
     "output_type": "stream",
     "text": [
      "[1, 2, 3, 4, 5, 6, 7, 8, 9, 10]\n"
     ]
    },
    {
     "data": {
      "text/plain": [
       "[1, 4, 9, 16, 25, 36, 49, 64, 81, 100]"
      ]
     },
     "execution_count": 9,
     "metadata": {},
     "output_type": "execute_result"
    }
   ],
   "source": [
    "## Soluton\n",
    "range(1,11)\n",
    "l=list(range(1,11))\n",
    "print(l)\n",
    "def sq(x):\n",
    "    return x**2\n",
    "list(map(sq,l))"
   ]
  },
  {
   "cell_type": "markdown",
   "id": "2b6db445-d912-43d4-823f-f3b2859125b9",
   "metadata": {},
   "source": [
    "#### Q3.Write a python program to convert the given list of integers into a tuple of strings. Use map and lambda functions Given String: [1, 2, 3, 4, 5, 6, 7, 8, 9, 10] Expected output: ('1', '2', '3', '4', '5', '6', '7', '8', '9', '10')"
   ]
  },
  {
   "cell_type": "code",
   "execution_count": 10,
   "id": "e8ec6c7b-e6ca-423b-a075-ecf47f324019",
   "metadata": {},
   "outputs": [
    {
     "data": {
      "text/plain": [
       "[1, 2, 3, 4, 5, 6, 7, 8, 9, 10]"
      ]
     },
     "execution_count": 10,
     "metadata": {},
     "output_type": "execute_result"
    }
   ],
   "source": [
    "l"
   ]
  },
  {
   "cell_type": "code",
   "execution_count": 11,
   "id": "7c18ffba-90ff-41f6-8eea-82504b7fd51f",
   "metadata": {},
   "outputs": [
    {
     "name": "stdout",
     "output_type": "stream",
     "text": [
      "['1', '2', '3', '4', '5', '6', '7', '8', '9', '10']\n"
     ]
    }
   ],
   "source": [
    "print(list(map(lambda x:str(x),l)))"
   ]
  },
  {
   "cell_type": "markdown",
   "id": "c291ecd8-d3d7-484f-80c1-21035b7030ba",
   "metadata": {},
   "source": [
    "#### Q4.Write a python program using reduce function to compute the product of a list containing numbers from 1 to 25."
   ]
  },
  {
   "cell_type": "code",
   "execution_count": 26,
   "id": "e6ca7bf4-b8a7-47bd-a3f6-36a6e19f9c61",
   "metadata": {},
   "outputs": [
    {
     "data": {
      "text/plain": [
       "range(1, 26)"
      ]
     },
     "execution_count": 26,
     "metadata": {},
     "output_type": "execute_result"
    }
   ],
   "source": [
    "## solution \n",
    "range(1,26)"
   ]
  },
  {
   "cell_type": "code",
   "execution_count": 27,
   "id": "7ac35999-1d76-46a1-8919-f1b4b6a54cc3",
   "metadata": {},
   "outputs": [
    {
     "name": "stdout",
     "output_type": "stream",
     "text": [
      "[1, 2, 3, 4, 5, 6, 7, 8, 9, 10, 11, 12, 13, 14, 15, 16, 17, 18, 19, 20, 21, 22, 23, 24, 25]\n"
     ]
    }
   ],
   "source": [
    "l=list(range(1,26))\n",
    "print(l)"
   ]
  },
  {
   "cell_type": "code",
   "execution_count": 28,
   "id": "8052a8da-c7d1-4e71-896e-df19945ee9e9",
   "metadata": {},
   "outputs": [
    {
     "data": {
      "text/plain": [
       "15511210043330985984000000"
      ]
     },
     "execution_count": 28,
     "metadata": {},
     "output_type": "execute_result"
    }
   ],
   "source": [
    "from functools import reduce\n",
    "reduce(lambda x,y:x*y,l)"
   ]
  },
  {
   "cell_type": "code",
   "execution_count": 29,
   "id": "336c1f74-0596-4e2f-a804-81e913b1bbe6",
   "metadata": {},
   "outputs": [
    {
     "name": "stdout",
     "output_type": "stream",
     "text": [
      "15511210043330985984000000\n"
     ]
    }
   ],
   "source": [
    "from functools import reduce\n",
    "l = [i for i in range(1, 26)]\n",
    "product = reduce(lambda x, y: x * y, l)\n",
    "print(product)"
   ]
  },
  {
   "cell_type": "markdown",
   "id": "cac1022c-2f4e-426c-90ef-f3c61e956cbc",
   "metadata": {},
   "source": [
    "#### Q5.Write a python program to filter the numbers in a given list that are divisible by 2 and 3 using the filter function.[2, 3, 6, 9, 27, 60, 90, 120, 55, 46]"
   ]
  },
  {
   "cell_type": "code",
   "execution_count": 35,
   "id": "cdcc529d-9351-4291-a33c-93960fb48b5d",
   "metadata": {},
   "outputs": [
    {
     "name": "stdout",
     "output_type": "stream",
     "text": [
      "[6, 60, 90, 120]\n"
     ]
    }
   ],
   "source": [
    "## Solution\n",
    "l=[2,3,6,9,27,60,90,120,55,46]\n",
    "print(list(filter(lambda x:x%2==0 and x%3==0,l)))"
   ]
  },
  {
   "cell_type": "markdown",
   "id": "a78d987e-9443-4bd1-b4e2-08e5fa353e0a",
   "metadata": {},
   "source": [
    "#### Q6.Write a python program to find palindromes in the given list of strings using lambda and filter function. ['python', 'php', 'aba', 'radar', 'level']"
   ]
  },
  {
   "cell_type": "code",
   "execution_count": 39,
   "id": "dff2bb57-343f-4037-95f7-a860481906d5",
   "metadata": {},
   "outputs": [
    {
     "name": "stdout",
     "output_type": "stream",
     "text": [
      "['php', 'aba', 'radar', 'level']\n"
     ]
    }
   ],
   "source": [
    "## Solution\n",
    "strings = ['python', 'php', 'aba', 'radar', 'level']\n",
    "palindromes = list(filter(lambda x: x == x[::-1], strings))\n",
    "print(palindromes)\n"
   ]
  },
  {
   "cell_type": "code",
   "execution_count": 40,
   "id": "52730530-f1d1-400e-bfa9-d81a0cead3c0",
   "metadata": {},
   "outputs": [
    {
     "name": "stdout",
     "output_type": "stream",
     "text": [
      "['php', 'aba', 'radar', 'level']\n"
     ]
    }
   ],
   "source": [
    "strings = ['python', 'php', 'aba', 'radar', 'level']\n",
    "palin"
   ]
  },
  {
   "cell_type": "code",
   "execution_count": 41,
   "id": "ab233cd2-2539-4018-bb3d-a39fbdcfa868",
   "metadata": {},
   "outputs": [
    {
     "name": "stdout",
     "output_type": "stream",
     "text": [
      "['php', 'aba', 'radar', 'level']\n"
     ]
    }
   ],
   "source": [
    "strings = ['python', 'php', 'aba', 'radar', 'level']\n",
    "palindromes = list(filter(lambda x: x == x[::-1], strings))\n",
    "print(palindromes)"
   ]
  },
  {
   "cell_type": "code",
   "execution_count": null,
   "id": "8f7f5099-89e3-46ce-9c81-2336b2f35d9a",
   "metadata": {},
   "outputs": [],
   "source": []
  }
 ],
 "metadata": {
  "kernelspec": {
   "display_name": "Python 3 (ipykernel)",
   "language": "python",
   "name": "python3"
  },
  "language_info": {
   "codemirror_mode": {
    "name": "ipython",
    "version": 3
   },
   "file_extension": ".py",
   "mimetype": "text/x-python",
   "name": "python",
   "nbconvert_exporter": "python",
   "pygments_lexer": "ipython3",
   "version": "3.10.8"
  }
 },
 "nbformat": 4,
 "nbformat_minor": 5
}
