{
 "cells": [
  {
   "cell_type": "markdown",
   "id": "0143b8f7-be3f-42f7-ac66-4aaa66759a90",
   "metadata": {},
   "source": [
    "#### Q1.Create a vehicle class with an init method having instance variables as name_of_vehicle, max_speed and average_of_vehicle."
   ]
  },
  {
   "cell_type": "code",
   "execution_count": 1,
   "id": "206adcee-1274-4ec6-871c-113212f9528b",
   "metadata": {},
   "outputs": [
    {
     "name": "stdout",
     "output_type": "stream",
     "text": [
      "Toyota\n",
      "220\n",
      "12\n"
     ]
    }
   ],
   "source": [
    "## solution\n",
    "class Vehicle:\n",
    "    def __init__(self, name_of_vehicle, max_speed, average_of_vehicle):\n",
    "        self.name_of_vehicle = name_of_vehicle\n",
    "        self.max_speed = max_speed\n",
    "        self.average_of_vehicle = average_of_vehicle\n",
    "        \n",
    "car = Vehicle(\"Toyota\", 220, 12)\n",
    "print(car.name_of_vehicle)       \n",
    "print(car.max_speed)             \n",
    "print(car.average_of_vehicle)    \n"
   ]
  },
  {
   "cell_type": "markdown",
   "id": "ee02d822-c642-4342-82c2-cb93ece5a5f9",
   "metadata": {},
   "source": [
    "#### Q2.Create a child class car from the vehicle class created in Que 1, which will inherit the vehicle class. Create a method named seating_capacity which takes capacity as an argument and returns the name of the vehicle and its seating capacity."
   ]
  },
  {
   "cell_type": "code",
   "execution_count": 1,
   "id": "43140e49-08cb-4e15-9868-d1d673cbad5d",
   "metadata": {},
   "outputs": [
    {
     "name": "stdout",
     "output_type": "stream",
     "text": [
      "Toyota has a seating capacity of 5 people.\n"
     ]
    }
   ],
   "source": [
    "class Vehicle:\n",
    "    def __init__(self, name_of_vehicle, max_speed, average_of_vehicle):\n",
    "        self.name_of_vehicle = name_of_vehicle\n",
    "        self.max_speed = max_speed\n",
    "        self.average_of_vehicle = average_of_vehicle\n",
    "\n",
    "\n",
    "class Car(Vehicle):\n",
    "    def __init__(self, name_of_vehicle, max_speed, average_of_vehicle):\n",
    "        super().__init__(name_of_vehicle, max_speed, average_of_vehicle)\n",
    "\n",
    "    def seating_capacity(self, capacity):\n",
    "        return f\"{self.name_of_vehicle} has a seating capacity of {capacity} people.\"\n",
    "\n",
    "\n",
    "car1 = Car(\"Toyota\", 220, 12)\n",
    "print(car1.seating_capacity(5))  "
   ]
  },
  {
   "cell_type": "markdown",
   "id": "f3852278-2252-40fa-82b0-f4f945c7e8bc",
   "metadata": {},
   "source": [
    "#### Q3.What is multiple inheritance? Write a python code to demonstrate multiple inheritance."
   ]
  },
  {
   "cell_type": "markdown",
   "id": "2c76cd39-398a-4f60-8ed4-be8da8813ff1",
   "metadata": {},
   "source": [
    "##### Multiple inheritance is a feature of object-oriented programming languages where a class can inherit from multiple base classes. This means that the derived class will have all the attributes and methods of its base classes, allowing for greater code reuse and flexibility."
   ]
  },
  {
   "cell_type": "code",
   "execution_count": null,
   "id": "e8e0f339-f35d-485c-a34c-b6f8a58d7420",
   "metadata": {},
   "outputs": [],
   "source": [
    "## Solution\n",
    "class Person:\n",
    "    def __init__(self, name, age):\n",
    "        self.name = name\n",
    "        self.age = age\n",
    "\n",
    "    def info(self):\n",
    "        return f\"{self.name} is {self.age} years old.\"\n",
    "\n",
    "\n",
    "class Student:\n",
    "    def __init__(self, name, age, student_id):\n",
    "        self.name = name\n",
    "        self.age = age\n",
    "        self.student_id = student_id\n",
    "\n",
    "    def information(self):\n",
    "        return f\"{self.name} is {self.age} years old and has student ID {self.student_id}.\"\n",
    "\n",
    "\n",
    "class CollegeStudent(Person, Student):\n",
    "    def __init__(self, name, age, student_id, college):\n",
    "        Person.__init__(self, name, age)\n",
    "        Student.__init__(self, name, age, student_id)\n",
    "        self.college = college\n",
    "\n",
    "    def information(self):\n",
    "        return f\"{self.name} is {self.age} years old and has student ID {self.student_id}. They attend {self.college}.\"\n",
    "\n",
    "\n",
    "college_student = CollegeStudent(\"subbu\", 23, \"1DS18ME447\", \"DSCE College\")\n",
    "print(college_student.information()) \n"
   ]
  },
  {
   "cell_type": "markdown",
   "id": "7643c0a0-e660-4545-9e5b-3b0af86e317c",
   "metadata": {},
   "source": [
    "#### Q4.What are getter and setter in python? Create a class and create a getter and a setter method in this class."
   ]
  },
  {
   "cell_type": "markdown",
   "id": "93c2651b-e9f6-45b0-a587-b3669c863029",
   "metadata": {},
   "source": [
    "* Getter and setter methods in Python are used to access and modify the values of instance variables (attributes) of a class, respectively.\n",
    "\n",
    "* A getter method is a method that retrieves the value of an attribute, while a setter method is a method that sets the value of an attribute."
   ]
  },
  {
   "cell_type": "code",
   "execution_count": 1,
   "id": "325ebb06-224e-450e-8787-9cc69023a23a",
   "metadata": {},
   "outputs": [
    {
     "name": "stdout",
     "output_type": "stream",
     "text": [
      "subramani\n",
      "manis\n"
     ]
    }
   ],
   "source": [
    "## creating class with setter and getter functions\n",
    "class Person:\n",
    "    def __init__(self, name):\n",
    "        self.__name = name   # __name is a private attribute\n",
    "    \n",
    "    def get_name(self):\n",
    "        return self.__name\n",
    "    \n",
    "    def set_name(self, new_name):\n",
    "        self.__name = new_name\n",
    "person = Person(\"subramani\")\n",
    "print(person.get_name())    \n",
    "\n",
    "person.set_name(\"manis\")\n",
    "print(person.get_name())   \n"
   ]
  },
  {
   "cell_type": "markdown",
   "id": "7920f410-dd4a-46c9-ad36-9eff8050daba",
   "metadata": {},
   "source": [
    "#### Q5.What is method overriding in python? Write a python code to demonstrate method overriding."
   ]
  },
  {
   "cell_type": "markdown",
   "id": "bf7842a4-1453-48c5-b55b-50b15b3b9c53",
   "metadata": {},
   "source": [
    "* Method overriding is a concept in object-oriented programming where a subclass provides its own implementation of a method that is already defined in its parent class. When a method in the subclass has the same name, same parameters, and the same return type as a method in the parent class, it is said to be overriding the method."
   ]
  },
  {
   "cell_type": "code",
   "execution_count": 1,
   "id": "93f4f348-c16f-4ae6-ad9a-1cb7e1ba75ac",
   "metadata": {},
   "outputs": [
    {
     "name": "stdout",
     "output_type": "stream",
     "text": [
      "The animal makes a sound.\n",
      "The dog barks.\n"
     ]
    }
   ],
   "source": [
    "## code for the method overriding\n",
    "class Animal:\n",
    "    def make_sound(self):\n",
    "        print(\"The animal makes a sound.\")\n",
    "\n",
    "class Dog(Animal):\n",
    "    def make_sound(self):\n",
    "        print(\"The dog barks.\")\n",
    "\n",
    "animal = Animal()\n",
    "dog = Dog()\n",
    "\n",
    "animal.make_sound()   \n",
    "dog.make_sound()      \n"
   ]
  }
 ],
 "metadata": {
  "kernelspec": {
   "display_name": "Python 3 (ipykernel)",
   "language": "python",
   "name": "python3"
  },
  "language_info": {
   "codemirror_mode": {
    "name": "ipython",
    "version": 3
   },
   "file_extension": ".py",
   "mimetype": "text/x-python",
   "name": "python",
   "nbconvert_exporter": "python",
   "pygments_lexer": "ipython3",
   "version": "3.10.8"
  }
 },
 "nbformat": 4,
 "nbformat_minor": 5
}
