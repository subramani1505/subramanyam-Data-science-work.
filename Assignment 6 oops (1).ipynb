{
 "cells": [
  {
   "cell_type": "markdown",
   "id": "dae9e755-27e6-41f7-a277-0cc9c1ca621f",
   "metadata": {},
   "source": [
    "#### Q1.Explain Class and Object with respect to Object-Oriented Programming. Give a suitable example."
   ]
  },
  {
   "cell_type": "markdown",
   "id": "988bcf69-ab02-48f1-94f9-1b258a794d91",
   "metadata": {},
   "source": [
    "* In object-oriented programming (OOP), a class is a blueprint or template for creating objects that defines a set of attributes and behaviors that the objects will have. \n",
    "* An object is an instance of a class that has its own unique set of attributes and behaviors."
   ]
  },
  {
   "cell_type": "code",
   "execution_count": 1,
   "id": "c6a2e7fb-f55a-4249-953f-cb3b48f3bff3",
   "metadata": {},
   "outputs": [],
   "source": [
    "## example implementation of bank account class \n",
    "class BankAccount:\n",
    "    def __init__(self, account_number, balance, owner_name, account_type):\n",
    "        self.account_number = account_number\n",
    "        self.balance = balance\n",
    "        self.owner_name = owner_name\n",
    "        self.account_type = account_type\n",
    "\n",
    "    def deposit(self, amount):\n",
    "        self.balance += amount\n",
    "        return f\"Deposit successful. New balance: {self.balance}\"\n",
    "\n",
    "    def withdraw(self, amount):\n",
    "        if amount > self.balance:\n",
    "            return \"Insufficient balance\"\n",
    "        else:\n",
    "            self.balance -= amount\n",
    "            return f\"Withdrawal successful. New balance: {self.balance}\"\n",
    "\n",
    "    def check_balance(self):\n",
    "        return f\"Account balance: {self.balance}\"\n"
   ]
  },
  {
   "cell_type": "code",
   "execution_count": 2,
   "id": "efc55d3d-fd92-49d6-8e78-18e09b76af50",
   "metadata": {},
   "outputs": [
    {
     "name": "stdout",
     "output_type": "stream",
     "text": [
      "Account balance: 5000\n",
      "Deposit successful. New balance: 6000\n",
      "Withdrawal successful. New balance: 4000\n",
      "Account balance: 4000\n"
     ]
    }
   ],
   "source": [
    "my_account = BankAccount(\"123456789\", 5000, \"John Doe\", \"savings\")\n",
    "print(my_account.check_balance())\n",
    "print(my_account.deposit(1000))\n",
    "print(my_account.withdraw(2000))\n",
    "print(my_account.check_balance())\n"
   ]
  },
  {
   "cell_type": "markdown",
   "id": "766ec119-52d1-48f9-99d6-fff65dc9a3b1",
   "metadata": {},
   "source": [
    "#### Q2.Name the four pillars of OOPs."
   ]
  },
  {
   "cell_type": "markdown",
   "id": "1b067893-d572-45f9-875d-7f1cfb9fe75b",
   "metadata": {},
   "source": [
    "1. Encapsulation: This refers to the practice of bundling data (attributes) and methods (behaviors) that operate on that data together into a single unit called a class. Encapsulation helps to hide the internal workings of an object from outside code, and provides a clean interface for interacting with the object.\n",
    "\n",
    "2. Abstraction: This is the practice of focusing on the essential features of an object and ignoring the details that are not relevant to its use. Abstraction allows us to create models of complex systems that can be easily understood and used by developers.\n",
    "\n",
    "3. Inheritance: This is the practice of creating a new class from an existing class, inheriting its attributes and methods, and extending or modifying them to create a new class. Inheritance allows us to create hierarchies of classes with increasing levels of specialization and complexity.\n",
    "\n",
    "4.  Polymorphism: This is the practice of using the same interface to represent objects of different classes. Polymorphism allows us to write generic code that can work with different types of objects, and provides flexibility and modularity in our code.\n",
    "\n",
    "* Together, these four pillars form the foundation of OOP, and help us to write code that is modular, extensible, and easy to understand and maintain."
   ]
  },
  {
   "cell_type": "markdown",
   "id": "f0f21676-967b-4d05-bf92-f4b06483490f",
   "metadata": {},
   "source": [
    "#### Q3.Explain why the __init__() function is used. Give a suitable example."
   ]
  },
  {
   "cell_type": "markdown",
   "id": "9747a3a0-595f-4504-b69e-4045d67fbe02",
   "metadata": {},
   "source": [
    "* The __init__() function is a special method in Python that is called when an object of a class is created. It is used to initialize the attributes of the object with default or user-defined values. The self parameter in the __init__() method refers to the newly created object."
   ]
  },
  {
   "cell_type": "code",
   "execution_count": 4,
   "id": "665b13f3-8edc-48a0-ab31-723ab19d4afd",
   "metadata": {},
   "outputs": [],
   "source": [
    "### example to illustrate the use of __init__() method\n",
    "class Person():\n",
    "    def __init__(self, name, age):\n",
    "        self.name = name\n",
    "        self.age = age\n",
    "\n",
    "    def display_details(self):\n",
    "        print(f\"Name: {self.name}, Age: {self.age}\")\n"
   ]
  },
  {
   "cell_type": "code",
   "execution_count": 6,
   "id": "a4b3e046-81a8-41a3-bb05-dd095907549d",
   "metadata": {},
   "outputs": [
    {
     "name": "stdout",
     "output_type": "stream",
     "text": [
      "Name: subramani, Age: 22\n"
     ]
    }
   ],
   "source": [
    "person1 = Person(\"subramani\", 22)\n",
    "person1.display_details()"
   ]
  },
  {
   "cell_type": "markdown",
   "id": "3f92c0f7-3b18-40b7-a728-031dd3104675",
   "metadata": {},
   "source": [
    "#### Q4.Why self is used in OOPs?"
   ]
  },
  {
   "cell_type": "markdown",
   "id": "d159512e-e252-4a9d-8866-cead92589458",
   "metadata": {},
   "source": [
    "* In object-oriented programming, self is a special parameter used in instance methods to refer to the instance of the class itself. It is used to access and modify the attributes and methods of the instance.\n",
    "* When you call a method on an instance of a class, the instance itself is automatically passed as the first argument to the method. This first parameter is usually called self by convention, although you can use any valid parameter name. The self parameter is included in the method definition, but you do not need to pass it explicitly when calling the method."
   ]
  },
  {
   "cell_type": "markdown",
   "id": "22e3ec8c-7e87-457c-aab8-524767e390b5",
   "metadata": {},
   "source": [
    "#### Q5.What is inheritance? Give an example for each type of inheritance."
   ]
  },
  {
   "cell_type": "markdown",
   "id": "81946d5d-1e9e-4bf2-bef8-863ecb963ce4",
   "metadata": {},
   "source": [
    "* Inheritance is a fundamental concept in object-oriented programming where a new class is created from an existing class. The new class, called the child class or derived class, inherits all the attributes and methods of the existing class, called the parent class or base class, and can also add its own unique attributes and methods."
   ]
  },
  {
   "cell_type": "markdown",
   "id": "9ef1f518-c423-4d7d-bbc2-f09d4a6c1402",
   "metadata": {},
   "source": [
    "* There are four types of inheritance in Python:\n",
    "1. Single Inheritance: In single inheritance, a derived class inherits from a single base class.\n",
    "2. Multiple Inheritance: In multiple inheritance, a derived class inherits from two or more base classes.\n",
    "3. Multi-level Inheritance: In multi-level inheritance, a derived class inherits from a base class, which itself inherits from another base class.\n",
    "4. Hierarchical Inheritance: In hierarchical inheritance, two or more derived classes inherit from a single base class."
   ]
  },
  {
   "cell_type": "code",
   "execution_count": 7,
   "id": "3fea0dc4-442e-4513-af66-65d2e1ebe822",
   "metadata": {},
   "outputs": [
    {
     "name": "stdout",
     "output_type": "stream",
     "text": [
      "Animal is eating.\n",
      "Dog is barking.\n"
     ]
    }
   ],
   "source": [
    "## Example for single inheritance\n",
    "class Animal:\n",
    "    def __init__(self, name, age):\n",
    "        self.name = name\n",
    "        self.age = age\n",
    "\n",
    "    def eat(self):\n",
    "        print(\"Animal is eating.\")\n",
    "\n",
    "class Dog(Animal):\n",
    "    def bark(self):\n",
    "        print(\"Dog is barking.\")\n",
    "\n",
    "dog1 = Dog(\"Buddy\", 3)\n",
    "dog1.eat()  # inherited from Animal class\n",
    "dog1.bark() # defined in Dog class\n",
    "\n"
   ]
  },
  {
   "cell_type": "code",
   "execution_count": 8,
   "id": "190fb07f-ce40-44e8-9b5a-b53301ba805d",
   "metadata": {},
   "outputs": [
    {
     "name": "stdout",
     "output_type": "stream",
     "text": [
      "Method A\n",
      "Method B\n",
      "Method C\n"
     ]
    }
   ],
   "source": [
    "## Example for multiple inheritance\n",
    "class A:\n",
    "    def methodA(self):\n",
    "        print(\"Method A\")\n",
    "\n",
    "class B:\n",
    "    def methodB(self):\n",
    "        print(\"Method B\")\n",
    "\n",
    "class C(A, B):\n",
    "    def methodC(self):\n",
    "        print(\"Method C\")\n",
    "\n",
    "c1 = C()\n",
    "c1.methodA() # inherited from A class\n",
    "c1.methodB() # inherited from B class\n",
    "c1.methodC() # defined in C class\n"
   ]
  },
  {
   "cell_type": "code",
   "execution_count": 9,
   "id": "e4b47b74-e9f3-431c-857e-9ed3d902508e",
   "metadata": {},
   "outputs": [
    {
     "name": "stdout",
     "output_type": "stream",
     "text": [
      "Animal is eating.\n",
      "Dog is barking.\n",
      "Bulldog is biting.\n"
     ]
    }
   ],
   "source": [
    "### example for multi-level inheritance\n",
    "class Animal:\n",
    "    def __init__(self, name):\n",
    "        self.name = name\n",
    "\n",
    "    def eat(self):\n",
    "        print(\"Animal is eating.\")\n",
    "\n",
    "class Dog(Animal):\n",
    "    def bark(self):\n",
    "        print(\"Dog is barking.\")\n",
    "\n",
    "class Bulldog(Dog):\n",
    "    def bite(self):\n",
    "        print(\"Bulldog is biting.\")\n",
    "\n",
    "bulldog1 = Bulldog(\"Spike\")\n",
    "bulldog1.eat()  # inherited from Animal class\n",
    "bulldog1.bark() # inherited from Dog class\n",
    "bulldog1.bite() # defined in Bulldog class\n"
   ]
  },
  {
   "cell_type": "code",
   "execution_count": 19,
   "id": "89882f35-2a6b-4016-a90e-df624997245e",
   "metadata": {},
   "outputs": [
    {
     "name": "stdout",
     "output_type": "stream",
     "text": [
      "Ford Mustang 2022 Red 2\n",
      "Driving...\n",
      "Honking...\n",
      "Chevy Silverado 2022 Black 1000\n",
      "Driving...\n",
      "Loading...\n",
      "Unloading...\n"
     ]
    }
   ],
   "source": [
    "## exapmle for Hierarchical Inheritance:\n",
    "class Vehicle:\n",
    "    def __init__(self, make, model, year, color):\n",
    "        self.make = make\n",
    "        self.model = model\n",
    "        self.year = year\n",
    "        self.color = color\n",
    "\n",
    "    def drive(self):\n",
    "        print(\"Driving...\")\n",
    "\n",
    "    def stop(self):\n",
    "        print(\"Stopping...\")\n",
    "\n",
    "    def park(self):\n",
    "        print(\"Parking...\")\n",
    "\n",
    "class Car(Vehicle):\n",
    "    def __init__(self, make, model, year, color, num_doors):\n",
    "        super().__init__(make, model, year, color)\n",
    "        self.num_doors = num_doors\n",
    "\n",
    "    def honk(self):\n",
    "        print(\"Honking...\")\n",
    "\n",
    "class Truck(Vehicle):\n",
    "    def __init__(self, make, model, year, color, payload_capacity):\n",
    "        super().__init__(make, model, year, color)\n",
    "        self.payload_capacity = payload_capacity\n",
    "\n",
    "    def load(self):\n",
    "        print(\"Loading...\")\n",
    "\n",
    "    def unload(self):\n",
    "        print(\"Unloading...\")\n",
    "        \n",
    "car1 = Car(\"Ford\", \"Mustang\", 2022, \"Red\", 2)\n",
    "print(car1.make, car1.model, car1.year, car1.color, car1.num_doors)\n",
    "car1.drive()\n",
    "car1.honk()\n",
    "\n",
    "truck1 = Truck(\"Chevy\", \"Silverado\", 2022, \"Black\", 1000)\n",
    "print(truck1.make, truck1.model, truck1.year, truck1.color, truck1.payload_capacity)\n",
    "truck1.drive()\n",
    "truck1.load()\n",
    "truck1.unload()"
   ]
  }
 ],
 "metadata": {
  "kernelspec": {
   "display_name": "Python 3 (ipykernel)",
   "language": "python",
   "name": "python3"
  },
  "language_info": {
   "codemirror_mode": {
    "name": "ipython",
    "version": 3
   },
   "file_extension": ".py",
   "mimetype": "text/x-python",
   "name": "python",
   "nbconvert_exporter": "python",
   "pygments_lexer": "ipython3",
   "version": "3.10.8"
  }
 },
 "nbformat": 4,
 "nbformat_minor": 5
}
