{
 "cells": [
  {
   "cell_type": "markdown",
   "id": "b8f67099-582c-49e4-8c50-88474f920260",
   "metadata": {},
   "source": [
    "#### Q1. Which function is used to open a file? What are the different modes of opening a file? Explain each mode of file opening."
   ]
  },
  {
   "cell_type": "markdown",
   "id": "d240d0d1-1656-473a-bee2-3a299f51c84d",
   "metadata": {},
   "source": [
    "* The open() function is used to open a file in Python. It is a built-in function that returns a file object.\n",
    "\n",
    "###### There are different modes of opening a file in Python, which are specified as the second argument to the open() function. Here are the different modes and their meanings:\n",
    "\n",
    "* r: Opens a file for reading (default). Raises an error if the file does not exist.\n",
    "\n",
    "* w: Opens a file for writing. If the file already exists, it will be truncated to zero length. If the file does not exist, it will be created.\n",
    "\n",
    "* x: Creates a new file for writing. Raises an error if the file already exists.\n",
    "\n",
    "* a: Opens a file for appending. The file pointer is at the end of the file if it exists. If the file does not exist, it will be created.\n",
    "\n",
    "* b: Opens a file in binary mode.\n",
    "\n",
    "* t: Opens a file in text mode (default).\n",
    "\n",
    "* +: Opens a file for updating (reading and writing)."
   ]
  },
  {
   "cell_type": "code",
   "execution_count": null,
   "id": "2e34daa4-02df-4dba-b876-bb7b43fe8533",
   "metadata": {},
   "outputs": [],
   "source": [
    "## Here are some examples of how to use the different modes:\n",
    "# Open a file for reading\n",
    "file = open(\"example.txt\", \"r\")\n",
    "\n",
    "# Open a file for writing\n",
    "file = open(\"example.txt\", \"w\")\n",
    "\n",
    "# Create a new file for writing\n",
    "file = open(\"example.txt\", \"x\")\n",
    "\n",
    "# Open a file for appending\n",
    "file = open(\"example.txt\", \"a\")\n",
    "\n",
    "# Open a file in binary mode\n",
    "file = open(\"example.txt\", \"rb\")\n",
    "\n",
    "# Open a file in text mode (default)\n",
    "file = open(\"example.txt\", \"rt\")\n",
    "\n"
   ]
  },
  {
   "cell_type": "markdown",
   "id": "ddd9a641-80ad-4534-9352-8f1ec6681ad7",
   "metadata": {},
   "source": [
    "#### Q2.Why close() function is used? Why is it important to close a file?"
   ]
  },
  {
   "cell_type": "markdown",
   "id": "c93ec53c-a1a6-4ce4-8838-1dec6f4e262e",
   "metadata": {},
   "source": [
    "* The close() function is used to close a file object in Python. It is important to close a file after we have finished working with it to free up system resources and to ensure that all data has been written to the file.\n",
    "\n",
    "* When we open a file, the operating system creates a file object in memory to represent that file. This file object is used to read from or write to the file. If you do not close the file after you are finished working with it, the file object will remain open in memory and will continue to occupy system resources. This can lead to issues with system performance, especially if we are working with a large number of files."
   ]
  },
  {
   "cell_type": "code",
   "execution_count": 4,
   "id": "2bb3cfe0-8053-4193-8775-2d8e4f868640",
   "metadata": {},
   "outputs": [],
   "source": [
    "file = open(\"example.txt\", \"w\")\n",
    "# Do something with the file\n",
    "file.close()\n",
    "\n",
    "with open(\"example.txt\", \"w\") as file:\n",
    "    # Do something with the file\n",
    "    pass\n",
    "# File is automatically closed outside the `with` block\n"
   ]
  },
  {
   "cell_type": "markdown",
   "id": "285c6fc4-22cd-473d-9c0f-e714f00cfa8e",
   "metadata": {},
   "source": [
    "#### Q3.Write a python program to create a text file. Write ‘I want to become a Data Scientist’ in that file. Then close the file. Open this file and read the content of the file."
   ]
  },
  {
   "cell_type": "code",
   "execution_count": 6,
   "id": "8d987492-036a-4c96-b6ec-bd4977d1e071",
   "metadata": {},
   "outputs": [
    {
     "name": "stdout",
     "output_type": "stream",
     "text": [
      "I want to become a Data Scientist\n"
     ]
    }
   ],
   "source": [
    "with open(\"data_scientist.txt\", \"w\") as file:\n",
    "    file.write(\"I want to become a Data Scientist\")\n",
    "               \n",
    "with open(\"data_scientist.txt\", \"r\") as file:\n",
    "    content = file.read()\n",
    "\n",
    "print(content)\n"
   ]
  },
  {
   "cell_type": "markdown",
   "id": "a3998f10-923e-42f8-be33-05069db0cd32",
   "metadata": {},
   "source": [
    "#### Q4.Explain the following with python code: read(), readline() and readlines()."
   ]
  },
  {
   "cell_type": "markdown",
   "id": "73c455dc-dfee-4648-8cde-ace11182b5c4",
   "metadata": {},
   "source": [
    "* The read() method reads the entire contents of a file into a string. "
   ]
  },
  {
   "cell_type": "code",
   "execution_count": 7,
   "id": "68e21018-8ce5-4124-ade8-23f7ffb94f24",
   "metadata": {},
   "outputs": [
    {
     "name": "stdout",
     "output_type": "stream",
     "text": [
      "\n"
     ]
    }
   ],
   "source": [
    "## example for read() function\n",
    "with open(\"example.txt\", \"r\") as file:\n",
    "    content = file.read()\n",
    "\n",
    "print(content)\n"
   ]
  },
  {
   "cell_type": "markdown",
   "id": "8d565b42-2600-47af-bdcd-99a872a56b5f",
   "metadata": {},
   "source": [
    "* The readline() method reads a single line from a file into a string."
   ]
  },
  {
   "cell_type": "code",
   "execution_count": 8,
   "id": "c7bf4d1f-987b-40db-b31a-874b40f1c686",
   "metadata": {},
   "outputs": [
    {
     "name": "stdout",
     "output_type": "stream",
     "text": [
      "\n"
     ]
    }
   ],
   "source": [
    "## example for readline()\n",
    "\n",
    "with open(\"example.txt\", \"r\") as file:\n",
    "    line1 = file.readline()\n",
    "    \n",
    "print(line1)\n"
   ]
  },
  {
   "cell_type": "markdown",
   "id": "66a75afe-a468-4bd6-81f8-3fbd2baad77e",
   "metadata": {},
   "source": [
    "* The readlines() method reads all the lines of a file into a list of strings. Each string in the list represents a single line from the file"
   ]
  },
  {
   "cell_type": "code",
   "execution_count": 9,
   "id": "7d31e38f-39b9-4449-9a4d-77222e78b1a8",
   "metadata": {},
   "outputs": [],
   "source": [
    "## Example for readliness()\n",
    "\n",
    "with open(\"example.txt\", \"r\") as file:\n",
    "    lines = file.readlines()\n",
    "\n",
    "for line in lines:\n",
    "    print(line)\n"
   ]
  },
  {
   "cell_type": "markdown",
   "id": "a22e14cd-d5ae-4ae7-8f44-d44ba3c714f8",
   "metadata": {},
   "source": [
    "#### Q5. Explain why with statement is used with open(). What is the advantage of using with statement and open() together?"
   ]
  },
  {
   "cell_type": "markdown",
   "id": "ca168b95-ddac-4d83-994b-75920b2602c9",
   "metadata": {},
   "source": [
    "* In Python, the with statement is used with the open() function to automatically handle file I/O operations, including closing the file when the block of code is exited. The advantage of using the with statement and open() function together is that it provides a cleaner, safer, and more efficient way of handling files.\n",
    "* The with statement is used to create a context in which a resource is acquired at the beginning of the block and automatically released at the end of the block, regardless of whether an exception is raised or not. In the case of file I/O operations, it ensures that the file is closed properly after the block of code has executed, even if an error occurs while reading or writing to the file."
   ]
  },
  {
   "cell_type": "code",
   "execution_count": 10,
   "id": "bff887a6-1da2-4f5e-9b4e-86c378b23f50",
   "metadata": {},
   "outputs": [
    {
     "name": "stdout",
     "output_type": "stream",
     "text": [
      "\n"
     ]
    }
   ],
   "source": [
    "## example of using with statement and open() function together:\n",
    "with open('example.txt', 'r') as file:\n",
    "    content = file.read()\n",
    "    print(content)\n",
    "\n"
   ]
  },
  {
   "cell_type": "markdown",
   "id": "392ad965-11b9-4850-bec1-bc58ee197c83",
   "metadata": {},
   "source": [
    "#### Q6. Explain the write() and writelines() functions. Give a suitable example."
   ]
  },
  {
   "cell_type": "markdown",
   "id": "a22f891c-1c49-4fb6-b531-2514b78f6055",
   "metadata": {},
   "source": [
    "* In Python, the write() and writelines() functions are used for writing data to a file.\n",
    "* The write() function writes a single string to a file. If the file is opened in write mode ('w'), the function will overwrite any existing content in the file. If the file is opened in append mode ('a'), the function will append the new content to the end of the file. The syntax for write() function is as follows \"file.write(string)\"\n"
   ]
  },
  {
   "cell_type": "code",
   "execution_count": 11,
   "id": "e6cfc21b-783c-4600-af6d-6ea9f5038ef2",
   "metadata": {},
   "outputs": [],
   "source": [
    "## example that demonstrates the use of write() function:\n",
    "with open('example.txt', 'w') as file:\n",
    "    file.write('Hello World!\\n')\n",
    "    file.write('Python is awesome!')\n"
   ]
  },
  {
   "cell_type": "markdown",
   "id": "293cd77a-ee70-4d81-b86a-e640b5224e3c",
   "metadata": {},
   "source": [
    "* The writelines() function is used to write a list of strings to a file. Each string in the list is written to the file as a separate line. The syntax for writelines() function is as follows:(\"file.writelines(list_of_strings)\")"
   ]
  },
  {
   "cell_type": "code",
   "execution_count": 12,
   "id": "46c0567e-b1d8-4de7-98e8-720058428ba8",
   "metadata": {},
   "outputs": [],
   "source": [
    "## example that demonstrates the use of writelines() function:\n",
    "lines = ['This is line 1.\\n', 'This is line 2.\\n', 'This is line 3.\\n']\n",
    "with open('example.txt', 'w') as file:\n",
    "    file.writelines(lines)\n"
   ]
  },
  {
   "cell_type": "markdown",
   "id": "c015ab14-168a-49ff-913a-228372e8aed2",
   "metadata": {},
   "source": [
    "* Both write() and writelines() functions are useful for writing data to files in Python. write() function is used when you want to write a single string to the file, while writelines() function is used when you want to write a list of strings to the file."
   ]
  },
  {
   "cell_type": "code",
   "execution_count": null,
   "id": "fed560a2-0c74-4f90-96ef-f1e72d617f56",
   "metadata": {},
   "outputs": [],
   "source": []
  }
 ],
 "metadata": {
  "kernelspec": {
   "display_name": "Python 3 (ipykernel)",
   "language": "python",
   "name": "python3"
  },
  "language_info": {
   "codemirror_mode": {
    "name": "ipython",
    "version": 3
   },
   "file_extension": ".py",
   "mimetype": "text/x-python",
   "name": "python",
   "nbconvert_exporter": "python",
   "pygments_lexer": "ipython3",
   "version": "3.10.8"
  }
 },
 "nbformat": 4,
 "nbformat_minor": 5
}
