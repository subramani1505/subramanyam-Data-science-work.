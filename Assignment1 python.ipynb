{
 "cells": [
  {
   "cell_type": "markdown",
   "id": "3bb0f491-2750-4cd2-9b56-6657757007fa",
   "metadata": {},
   "source": [
    "### 1.Who developed python programming language?"
   ]
  },
  {
   "cell_type": "markdown",
   "id": "0e12f84f-e54a-4d01-ab71-49bf1e10bf79",
   "metadata": {},
   "source": [
    "##### Python is a widely used general-purpose, high-level programming language. It was created by Guido van Rossum in 1991 and further developed by the Python Software Foundation. It was designed to emphasize code readability, and its syntax allows programmers to express their concepts in fewer lines of code. Python is a programming language that lets you work quickly and integrate systems more efficiently. There are two major Python versions: Python 2 and Python 3. Both are quite different."
   ]
  },
  {
   "cell_type": "markdown",
   "id": "e50d99f4-f0bc-4339-a798-1e178ad09e91",
   "metadata": {
    "jp-MarkdownHeadingCollapsed": true,
    "tags": []
   },
   "source": [
    "### 2.which type of programming does python support?\n",
    "##### python is a high-level programming language that supports multiple programming paradigms including\n",
    " * object oriented proramming\n",
    " * Procedural programming\n",
    " * Functional programming\n",
    " * Imperative programming\n",
    " * scripting\n",
    " * web development\n",
    " * Data analysis and scientific computing \n",
    "\n",
    " \n",
    " "
   ]
  },
  {
   "cell_type": "markdown",
   "id": "ddb3b01a-b544-456b-98de-6b52939e13e9",
   "metadata": {},
   "source": [
    "### 3.is python case sensitive when dealing with identifier?"
   ]
  },
  {
   "cell_type": "markdown",
   "id": "5fd7aab4-c5b0-41a0-b65a-70cca90cf281",
   "metadata": {},
   "source": [
    "##### Yes, Python is a case-sensitive language when dealing with identifiers such as variable names, function names, class names, etc. This means that identifiers that differ only in their case are considered to be different and distinct from each other."
   ]
  },
  {
   "cell_type": "markdown",
   "id": "9da13038-322b-425b-a130-c79f825753c8",
   "metadata": {},
   "source": [
    "### 4.What is the correct extension of the python file?"
   ]
  },
  {
   "cell_type": "markdown",
   "id": "6a1bebf8-a9d0-43c4-ba4d-9bae247b4f53",
   "metadata": {},
   "source": [
    "#####  The correct extension for a Python file is \".py\". This is the standard extension used for Python source code files. When you save a Python file, you should give it a name that reflects the purpose of the code and end it with the \".py\" extension."
   ]
  },
  {
   "cell_type": "markdown",
   "id": "b62765bc-dbcc-4aac-aa95-6024a0aadbe0",
   "metadata": {},
   "source": [
    "### 5.is python code compiled or interpreted?"
   ]
  },
  {
   "cell_type": "markdown",
   "id": "c6aef646-8db9-40d6-b5e7-c95b6962bdee",
   "metadata": {},
   "source": [
    "##### Python code is interpreted and not compiled. When you write Python code, you create a text file with a .py extension containing the Python code. When you run the code, the Python interpreter reads and executes the code line by line"
   ]
  },
  {
   "cell_type": "markdown",
   "id": "752162dc-8703-4f93-94e0-342dff6222bf",
   "metadata": {},
   "source": [
    "### 6.Name a few blocks of code used to define in python language?"
   ]
  },
  {
   "cell_type": "markdown",
   "id": "c86faae9-328a-42c8-97be-3548d285b7ad",
   "metadata": {},
   "source": [
    "##### These are the few blocks of code is used to define in python language\n",
    "1. Function blocks\n",
    "2. Conditional blocks\n",
    "3. Loop blocks\n",
    "4. Exception blocks\n",
    "5. Class blocks"
   ]
  },
  {
   "cell_type": "markdown",
   "id": "e88e43fd-9961-4857-ba73-eda5d029e078",
   "metadata": {},
   "source": [
    "### 7.State a character used to give single line comments in python?"
   ]
  },
  {
   "cell_type": "markdown",
   "id": "939f9047-bcb0-4d83-94c1-c34047749299",
   "metadata": {},
   "source": [
    "##### In Python, the \"#\" character is used to indicate a single-line comment. Any text that follows the \"#\" character on a line is ignored by the interpreter and treated as a comment."
   ]
  },
  {
   "cell_type": "code",
   "execution_count": 1,
   "id": "94ca5e93-fba5-4dc9-9156-f285e27dbcb3",
   "metadata": {},
   "outputs": [
    {
     "name": "stdout",
     "output_type": "stream",
     "text": [
      "Hello, world\n"
     ]
    }
   ],
   "source": [
    "# This is a single-line comment in Python \n",
    "print(\"Hello, world\") # This is another single-line comment\n"
   ]
  },
  {
   "cell_type": "markdown",
   "id": "9b047a0d-475a-416b-8f57-6ce11b18e6d6",
   "metadata": {},
   "source": [
    "### 8.Mention functions which can help us to find the version of python that we are currently working on?"
   ]
  },
  {
   "cell_type": "markdown",
   "id": "c4a06991-d2fe-4765-a8a0-dd10b87a4fa9",
   "metadata": {},
   "source": [
    "##### In Python, there are a few ways to find out the version of the Python interpreter we are currently working on. Here are some functions that we can use:\n",
    "1. sys.version\n",
    "2. platform.python_version()\n",
    "3. sys.version_info"
   ]
  },
  {
   "cell_type": "markdown",
   "id": "430aec59-dbfd-44a8-b642-29de31c238a8",
   "metadata": {},
   "source": [
    "### 9.Python supports the creation of anonymous functions at runtime using a construct called _______________________"
   ]
  },
  {
   "cell_type": "markdown",
   "id": "96632bf0-6cdf-47e6-ba1e-cca7852a145c",
   "metadata": {},
   "source": [
    "##### Python supports the creation of anonymous functions at runtime using a construct called \"lambda\" functions."
   ]
  },
  {
   "cell_type": "markdown",
   "id": "24416184-9a3a-4214-9c4e-6efe16a66f4a",
   "metadata": {},
   "source": [
    "### 10.What does pip stands for python?"
   ]
  },
  {
   "cell_type": "markdown",
   "id": "a1675c7e-bce7-4e05-89eb-2dcfba6069af",
   "metadata": {},
   "source": [
    "##### PIP stands for \"Pip Installs Packages\" or \"Pip Installs Python\".Pip is a package manager for Python that allows you to easily install and manage third-party libraries and dependencies for your Python projects. It is used to download and install packages from the Python Package Index (PyPI), as well as other sources, and can also be used to uninstall packages or upgrade them to newer versions.\n",
    "    "
   ]
  },
  {
   "cell_type": "markdown",
   "id": "b5700b95-3f07-4524-ab24-0a3713286ed0",
   "metadata": {},
   "source": [
    "### 11.Mention a few built-in functions in python"
   ]
  },
  {
   "cell_type": "markdown",
   "id": "25cc7c8a-4989-454a-a723-e597d72881ce",
   "metadata": {},
   "source": [
    "#### Python has a large number of built-in functions that can be used for a wide variety of purposes. Here are some commonly used built-in functions in Python:\n",
    "1. print()\n",
    "2. input()\n",
    "3. type()\n",
    "4. range()\n",
    "5. len()\n",
    "6. int(), float(), str()\n",
    "7. sum()\n",
    "8. min(), max()\n",
    "###### These are just a few examples of the many built-in functions available in Python. we can use these functions to perform a wide range of operations in our Python programs."
   ]
  },
  {
   "cell_type": "markdown",
   "id": "ef8091d3-5a5d-4163-86a6-3693ab0781a1",
   "metadata": {},
   "source": [
    "### 12.What is the maximum possible length of an identifier in python?"
   ]
  },
  {
   "cell_type": "markdown",
   "id": "15e42ea7-7968-42b4-82f3-0ab81ef613e2",
   "metadata": {},
   "source": [
    "##### In Python, the maximum possible length of an identifier is not specified or limited. However, it is recommended to keep the length of identifiers reasonable, so that they are easy to read and understand. According to the Python style guide (PEP 8), identifiers should be \"descriptive and not too long\", with a maximum length of 79 characters. This is because longer identifiers can be difficult to read and may not fit well on a single line."
   ]
  },
  {
   "cell_type": "markdown",
   "id": "183e30c9-c10e-45e7-92a1-3dd139d12fde",
   "metadata": {},
   "source": [
    "### 13.What are the benefits of using python?"
   ]
  },
  {
   "cell_type": "markdown",
   "id": "7a84dec6-532e-4d40-9338-30f6b4b4259b",
   "metadata": {},
   "source": [
    "##### There are several benefits of using Python as a programming language\n",
    "1. Readability and simplicity: Python has a clean and simple syntax that makes it easy to read and understand. This can help developers write code more efficiently and reduce the likelihood of errors.\n",
    "2. Large community and support: Python has a large and active community of developers who contribute to the language, create libraries and tools, and provide support for newcomers. \n",
    "3. Versatility: Python can be used for a wide variety of applications, from web development and data analysis to artificial intelligence and scientific computing. This makes it a useful language to know for many different industries and fields.\n",
    "4. Cross-platform compatibility: Python code can run on many different operating systems, including Windows, macOS, and Linux. This makes it a flexible language that can be used in a variety of environments.\n",
    "5. Extensive libraries: Python has a large collection of standard libraries that provide pre-written code for many common tasks, such as working with data or creating graphical user interfaces. This can save developers time and effort, as they don't have to write everything from scratch.\n",
    "6. Easy to learn: Python is a popular language for beginners, thanks to its simplicity and ease of use. It can be a good choice for those just starting out in programming, as well as for experienced developers looking to learn a new language.\n",
    "7. Open-source and free: Python is an open-source language, which means that it is free to use, modify, and distribute. This can make it a more accessible language for small businesses and individual developers, as there are no licensing fees to worry about.\n"
   ]
  },
  {
   "cell_type": "markdown",
   "id": "239e5462-c565-403e-91b4-5d2e05a17260",
   "metadata": {},
   "source": [
    "### 14.How is memory Managed in python?"
   ]
  },
  {
   "cell_type": "markdown",
   "id": "2f22cc7d-d914-43ad-a048-1dbdb5dbf3f3",
   "metadata": {},
   "source": [
    "##### Memory management in Python is handled automatically by the interpreter, using a technique called reference counting. In Python, every object has a reference count, which keeps track of how many times the object is referenced in the code. When an object's reference count reaches zero, it means that the object is no longer being used and can be deleted from memory."
   ]
  },
  {
   "cell_type": "markdown",
   "id": "61c8ec81-72d5-4c5b-b12e-fe1a25e6de3c",
   "metadata": {},
   "source": [
    "### 15.How to install python on windows and set path variables "
   ]
  },
  {
   "cell_type": "markdown",
   "id": "59472cdd-ca65-4554-ab26-a0ca176bd82a",
   "metadata": {},
   "source": [
    "##### Here are the steps to install Python on Windows and set path variables:\n",
    "\n",
    "1. Go to the official Python website at https://www.python.org/downloads/ and download the latest version of Python for Windows.\n",
    "2. Once the download is complete, double-click the installer file to start the installation process.\n",
    "3. In the installation wizard, select the \"Add Python to PATH\" option to add Python to your system's environment variables. This will make it easier to run Python from the command line.\n",
    "4. Follow the instructions in the installation wizard to complete the installation process.\n",
    "5. Once the installation is complete, open the Windows command prompt by pressing the Windows key + R and typing \"cmd\" in the Run dialog box.\n",
    "6. Type \"python\" in the command prompt and press Enter. If Python is installed correctly, you should see the Python version number and the Python prompt (\">>>\").\n",
    "7. To set the path variables, right-click on the \"Computer\" icon on your desktop or in the Start menu, and select \"Properties\".\n",
    "8. In the System Properties window, click on the \"Advanced system settings\" link.\n",
    "9. In the System Properties dialog box, click on the \"Environment Variables\" button.\n",
    "10. In the Environment Variables dialog box, scroll down to the \"System variables\" section and locate the \"Path\" variable.\n",
    "11. Click on the \"Edit\" button to edit the \"Path\" variable.\n",
    "12. In the Edit Environment Variable dialog box, add the path to the Python installation directory to the \"Variable value\" field. Make sure to separate the path from any existing values with a semicolon (;).\n",
    "13. Click \"OK\" to save the changes and close all open windows.\n",
    "14. You should now be able to run Python from any directory in the command prompt by simply typing \"python\" and pressing Enter."
   ]
  },
  {
   "cell_type": "markdown",
   "id": "fc5dfd59-daa3-44cf-906e-b91b8ebc1527",
   "metadata": {},
   "source": [
    "### 16.is indentation required in python?"
   ]
  },
  {
   "cell_type": "markdown",
   "id": "5254b8e6-2c69-4b86-9116-f0bf9426af38",
   "metadata": {},
   "source": [
    "##### Yes, indentation is required in Python. Unlike many other programming languages that use curly braces to define blocks of code, Python uses indentation to group statements together. Indentation is used to mark the beginning and end of a block of code."
   ]
  }
 ],
 "metadata": {
  "kernelspec": {
   "display_name": "Python 3 (ipykernel)",
   "language": "python",
   "name": "python3"
  },
  "language_info": {
   "codemirror_mode": {
    "name": "ipython",
    "version": 3
   },
   "file_extension": ".py",
   "mimetype": "text/x-python",
   "name": "python",
   "nbconvert_exporter": "python",
   "pygments_lexer": "ipython3",
   "version": "3.10.8"
  }
 },
 "nbformat": 4,
 "nbformat_minor": 5
}
